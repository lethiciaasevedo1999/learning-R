{
  "nbformat": 4,
  "nbformat_minor": 0,
  "metadata": {
    "colab": {
      "provenance": [],
      "authorship_tag": "ABX9TyN2iVDXgxIDrTzvGpHtMnjb",
      "include_colab_link": true
    },
    "kernelspec": {
      "name": "ir",
      "display_name": "R"
    },
    "language_info": {
      "name": "R"
    }
  },
  "cells": [
    {
      "cell_type": "markdown",
      "metadata": {
        "id": "view-in-github",
        "colab_type": "text"
      },
      "source": [
        "<a href=\"https://colab.research.google.com/github/lethiciaasevedo1999/learning-R/blob/main/Analise_comR.ipynb\" target=\"_parent\"><img src=\"https://colab.research.google.com/assets/colab-badge.svg\" alt=\"Open In Colab\"/></a>"
      ]
    },
    {
      "cell_type": "markdown",
      "source": [
        "|Data|ID\\_Produto|Nome\\_Produto|Quantidade\\_Vendida|\tEstoque\\_Disponível|Categoria|\n",
        "|---|---|---|---|---|---|\n",
        "|2023-01-01|1001|Camisa Social Azul|5|50|Camisas|\n",
        "|2023-01-01|1002|Calça Jeans|8|30|Calças|\n",
        "|2023-01-02|1003|Jaqueta de Couro|2|20|Jaquetas|\n",
        "|2023-01-03|1004|Camisa Social Branca|3|45|Camisas|\n",
        "|2023-01-03|1005|Saia Longa|4|25|Saias|\n",
        "|2023-01-04|1006|Blusa de Algodão|7|60|Blusas|\n",
        "|2023-01-05|1007|Calça de Moletom|10|40|Calças|\n",
        "|2023-01-06|1008|Vestido Floral|6|35|Vestidos|\n",
        "|2023-01-07|1009|Terno Completo|1|15|Ternos|\n",
        "|2023-01-08|1010|Camiseta Básica|15|100|Camisetas|\n"
      ],
      "metadata": {
        "id": "nX5AgXBKO89h"
      }
    },
    {
      "cell_type": "markdown",
      "source": [
        "#**Criando o dataframe**"
      ],
      "metadata": {
        "id": "1uJv6fiyQ1X3"
      }
    },
    {
      "cell_type": "code",
      "execution_count": 1,
      "metadata": {
        "id": "zhs6B0t1DRsV",
        "colab": {
          "base_uri": "https://localhost:8080/",
          "height": 104
        },
        "outputId": "79bca85f-c3d4-4302-85eb-a1d329294e8d"
      },
      "outputs": [
        {
          "output_type": "display_data",
          "data": {
            "text/html": [
              "<style>\n",
              ".list-inline {list-style: none; margin:0; padding: 0}\n",
              ".list-inline>li {display: inline-block}\n",
              ".list-inline>li:not(:last-child)::after {content: \"\\00b7\"; padding: 0 .5ex}\n",
              "</style>\n",
              "<ol class=list-inline><li>'2023-01-01'</li><li>'1001'</li><li>'Camisa Social Azul'</li><li>'5'</li><li>'50'</li><li>'Camisas'</li><li>'2023-01-01'</li><li>'1002'</li><li>'Calça Jeans'</li><li>'8'</li><li>'30'</li><li>'Calças'</li><li>'2023-01-02'</li><li>'1003'</li><li>'Jaqueta de Couro'</li><li>'2'</li><li>'20'</li><li>'Jaquetas'</li><li>'2023-01-03'</li><li>'1004'</li><li>'Camisa Social Branca'</li><li>'3'</li><li>'45'</li><li>'Camisas'</li><li>'2023-01-03'</li><li>'1005'</li><li>'Saia Longa'</li><li>'4'</li><li>'25'</li><li>'Saias'</li><li>'2023-01-04'</li><li>'1006'</li><li>'Blusa de Algodão'</li><li>'7'</li><li>'60'</li><li>'Blusas'</li><li>'2023-01-05'</li><li>'1007'</li><li>'Calça de Moletom'</li><li>'10'</li><li>'40'</li><li>'Calças'</li><li>'2023-01-06'</li><li>'1008'</li><li>'Vestido Floral'</li><li>'6'</li><li>'35'</li><li>'Vestidos'</li><li>'2023-01-07'</li><li>'1009'</li><li>'Terno Completo'</li><li>'1'</li><li>'15'</li><li>'Ternos'</li><li>'2023-01-08'</li><li>'1010'</li><li>'Camiseta Básica'</li><li>'15'</li><li>'100'</li><li>'Camisetas'</li></ol>\n"
            ],
            "text/markdown": "1. '2023-01-01'\n2. '1001'\n3. 'Camisa Social Azul'\n4. '5'\n5. '50'\n6. 'Camisas'\n7. '2023-01-01'\n8. '1002'\n9. 'Calça Jeans'\n10. '8'\n11. '30'\n12. 'Calças'\n13. '2023-01-02'\n14. '1003'\n15. 'Jaqueta de Couro'\n16. '2'\n17. '20'\n18. 'Jaquetas'\n19. '2023-01-03'\n20. '1004'\n21. 'Camisa Social Branca'\n22. '3'\n23. '45'\n24. 'Camisas'\n25. '2023-01-03'\n26. '1005'\n27. 'Saia Longa'\n28. '4'\n29. '25'\n30. 'Saias'\n31. '2023-01-04'\n32. '1006'\n33. 'Blusa de Algodão'\n34. '7'\n35. '60'\n36. 'Blusas'\n37. '2023-01-05'\n38. '1007'\n39. 'Calça de Moletom'\n40. '10'\n41. '40'\n42. 'Calças'\n43. '2023-01-06'\n44. '1008'\n45. 'Vestido Floral'\n46. '6'\n47. '35'\n48. 'Vestidos'\n49. '2023-01-07'\n50. '1009'\n51. 'Terno Completo'\n52. '1'\n53. '15'\n54. 'Ternos'\n55. '2023-01-08'\n56. '1010'\n57. 'Camiseta Básica'\n58. '15'\n59. '100'\n60. 'Camisetas'\n\n\n",
            "text/latex": "\\begin{enumerate*}\n\\item '2023-01-01'\n\\item '1001'\n\\item 'Camisa Social Azul'\n\\item '5'\n\\item '50'\n\\item 'Camisas'\n\\item '2023-01-01'\n\\item '1002'\n\\item 'Calça Jeans'\n\\item '8'\n\\item '30'\n\\item 'Calças'\n\\item '2023-01-02'\n\\item '1003'\n\\item 'Jaqueta de Couro'\n\\item '2'\n\\item '20'\n\\item 'Jaquetas'\n\\item '2023-01-03'\n\\item '1004'\n\\item 'Camisa Social Branca'\n\\item '3'\n\\item '45'\n\\item 'Camisas'\n\\item '2023-01-03'\n\\item '1005'\n\\item 'Saia Longa'\n\\item '4'\n\\item '25'\n\\item 'Saias'\n\\item '2023-01-04'\n\\item '1006'\n\\item 'Blusa de Algodão'\n\\item '7'\n\\item '60'\n\\item 'Blusas'\n\\item '2023-01-05'\n\\item '1007'\n\\item 'Calça de Moletom'\n\\item '10'\n\\item '40'\n\\item 'Calças'\n\\item '2023-01-06'\n\\item '1008'\n\\item 'Vestido Floral'\n\\item '6'\n\\item '35'\n\\item 'Vestidos'\n\\item '2023-01-07'\n\\item '1009'\n\\item 'Terno Completo'\n\\item '1'\n\\item '15'\n\\item 'Ternos'\n\\item '2023-01-08'\n\\item '1010'\n\\item 'Camiseta Básica'\n\\item '15'\n\\item '100'\n\\item 'Camisetas'\n\\end{enumerate*}\n",
            "text/plain": [
              " [1] \"2023-01-01\"           \"1001\"                 \"Camisa Social Azul\"  \n",
              " [4] \"5\"                    \"50\"                   \"Camisas\"             \n",
              " [7] \"2023-01-01\"           \"1002\"                 \"Calça Jeans\"         \n",
              "[10] \"8\"                    \"30\"                   \"Calças\"              \n",
              "[13] \"2023-01-02\"           \"1003\"                 \"Jaqueta de Couro\"    \n",
              "[16] \"2\"                    \"20\"                   \"Jaquetas\"            \n",
              "[19] \"2023-01-03\"           \"1004\"                 \"Camisa Social Branca\"\n",
              "[22] \"3\"                    \"45\"                   \"Camisas\"             \n",
              "[25] \"2023-01-03\"           \"1005\"                 \"Saia Longa\"          \n",
              "[28] \"4\"                    \"25\"                   \"Saias\"               \n",
              "[31] \"2023-01-04\"           \"1006\"                 \"Blusa de Algodão\"    \n",
              "[34] \"7\"                    \"60\"                   \"Blusas\"              \n",
              "[37] \"2023-01-05\"           \"1007\"                 \"Calça de Moletom\"    \n",
              "[40] \"10\"                   \"40\"                   \"Calças\"              \n",
              "[43] \"2023-01-06\"           \"1008\"                 \"Vestido Floral\"      \n",
              "[46] \"6\"                    \"35\"                   \"Vestidos\"            \n",
              "[49] \"2023-01-07\"           \"1009\"                 \"Terno Completo\"      \n",
              "[52] \"1\"                    \"15\"                   \"Ternos\"              \n",
              "[55] \"2023-01-08\"           \"1010\"                 \"Camiseta Básica\"     \n",
              "[58] \"15\"                   \"100\"                  \"Camisetas\"           "
            ]
          },
          "metadata": {}
        }
      ],
      "source": [
        "sales_data_vetor <- c(\n",
        "     \"2023-01-01\", 1001, \"Camisa Social Azul\", 5, 50, \"Camisas\",\n",
        "     \"2023-01-01\", 1002, \"Calça Jeans\", 8, 30, \"Calças\",\n",
        "     \"2023-01-02\", 1003, \"Jaqueta de Couro\", 2, 20, \"Jaquetas\",\n",
        "     \"2023-01-03\", 1004, \"Camisa Social Branca\", 3, 45, \"Camisas\",\n",
        "     \"2023-01-03\", 1005, \"Saia Longa\", 4, 25, \"Saias\",\n",
        "     \"2023-01-04\", 1006, \"Blusa de Algodão\", 7, 60, \"Blusas\",\n",
        "     \"2023-01-05\", 1007, \"Calça de Moletom\", 10, 40, \"Calças\",\n",
        "     \"2023-01-06\", 1008, \"Vestido Floral\", 6, 35, \"Vestidos\",\n",
        "     \"2023-01-07\", 1009, \"Terno Completo\", 1, 15, \"Ternos\",\n",
        "     \"2023-01-08\", 1010, \"Camiseta Básica\", 15, 100, \"Camisetas\"\n",
        ")\n",
        "sales_data_vetor"
      ]
    },
    {
      "cell_type": "code",
      "source": [
        "# Criar a matriz a partir do vetor\n",
        "sales_data_matrix <- matrix(sales_data_vetor, nrow = 10, byrow = TRUE)\n",
        "sales_data_matrix"
      ],
      "metadata": {
        "colab": {
          "base_uri": "https://localhost:8080/",
          "height": 348
        },
        "id": "7vHSV5loQwf6",
        "outputId": "177fde50-9dd6-4528-8d28-3b9b06fb73ca"
      },
      "execution_count": 2,
      "outputs": [
        {
          "output_type": "display_data",
          "data": {
            "text/html": [
              "<table class=\"dataframe\">\n",
              "<caption>A matrix: 10 × 6 of type chr</caption>\n",
              "<tbody>\n",
              "\t<tr><td>2023-01-01</td><td>1001</td><td>Camisa Social Azul  </td><td>5 </td><td>50 </td><td>Camisas  </td></tr>\n",
              "\t<tr><td>2023-01-01</td><td>1002</td><td>Calça Jeans         </td><td>8 </td><td>30 </td><td>Calças   </td></tr>\n",
              "\t<tr><td>2023-01-02</td><td>1003</td><td>Jaqueta de Couro    </td><td>2 </td><td>20 </td><td>Jaquetas </td></tr>\n",
              "\t<tr><td>2023-01-03</td><td>1004</td><td>Camisa Social Branca</td><td>3 </td><td>45 </td><td>Camisas  </td></tr>\n",
              "\t<tr><td>2023-01-03</td><td>1005</td><td>Saia Longa          </td><td>4 </td><td>25 </td><td>Saias    </td></tr>\n",
              "\t<tr><td>2023-01-04</td><td>1006</td><td>Blusa de Algodão    </td><td>7 </td><td>60 </td><td>Blusas   </td></tr>\n",
              "\t<tr><td>2023-01-05</td><td>1007</td><td>Calça de Moletom    </td><td>10</td><td>40 </td><td>Calças   </td></tr>\n",
              "\t<tr><td>2023-01-06</td><td>1008</td><td>Vestido Floral      </td><td>6 </td><td>35 </td><td>Vestidos </td></tr>\n",
              "\t<tr><td>2023-01-07</td><td>1009</td><td>Terno Completo      </td><td>1 </td><td>15 </td><td>Ternos   </td></tr>\n",
              "\t<tr><td>2023-01-08</td><td>1010</td><td>Camiseta Básica     </td><td>15</td><td>100</td><td>Camisetas</td></tr>\n",
              "</tbody>\n",
              "</table>\n"
            ],
            "text/markdown": "\nA matrix: 10 × 6 of type chr\n\n| 2023-01-01 | 1001 | Camisa Social Azul   | 5  | 50  | Camisas   |\n| 2023-01-01 | 1002 | Calça Jeans          | 8  | 30  | Calças    |\n| 2023-01-02 | 1003 | Jaqueta de Couro     | 2  | 20  | Jaquetas  |\n| 2023-01-03 | 1004 | Camisa Social Branca | 3  | 45  | Camisas   |\n| 2023-01-03 | 1005 | Saia Longa           | 4  | 25  | Saias     |\n| 2023-01-04 | 1006 | Blusa de Algodão     | 7  | 60  | Blusas    |\n| 2023-01-05 | 1007 | Calça de Moletom     | 10 | 40  | Calças    |\n| 2023-01-06 | 1008 | Vestido Floral       | 6  | 35  | Vestidos  |\n| 2023-01-07 | 1009 | Terno Completo       | 1  | 15  | Ternos    |\n| 2023-01-08 | 1010 | Camiseta Básica      | 15 | 100 | Camisetas |\n\n",
            "text/latex": "A matrix: 10 × 6 of type chr\n\\begin{tabular}{llllll}\n\t 2023-01-01 & 1001 & Camisa Social Azul   & 5  & 50  & Camisas  \\\\\n\t 2023-01-01 & 1002 & Calça Jeans          & 8  & 30  & Calças   \\\\\n\t 2023-01-02 & 1003 & Jaqueta de Couro     & 2  & 20  & Jaquetas \\\\\n\t 2023-01-03 & 1004 & Camisa Social Branca & 3  & 45  & Camisas  \\\\\n\t 2023-01-03 & 1005 & Saia Longa           & 4  & 25  & Saias    \\\\\n\t 2023-01-04 & 1006 & Blusa de Algodão     & 7  & 60  & Blusas   \\\\\n\t 2023-01-05 & 1007 & Calça de Moletom     & 10 & 40  & Calças   \\\\\n\t 2023-01-06 & 1008 & Vestido Floral       & 6  & 35  & Vestidos \\\\\n\t 2023-01-07 & 1009 & Terno Completo       & 1  & 15  & Ternos   \\\\\n\t 2023-01-08 & 1010 & Camiseta Básica      & 15 & 100 & Camisetas\\\\\n\\end{tabular}\n",
            "text/plain": [
              "      [,1]       [,2] [,3]                 [,4] [,5] [,6]     \n",
              " [1,] 2023-01-01 1001 Camisa Social Azul   5    50   Camisas  \n",
              " [2,] 2023-01-01 1002 Calça Jeans          8    30   Calças   \n",
              " [3,] 2023-01-02 1003 Jaqueta de Couro     2    20   Jaquetas \n",
              " [4,] 2023-01-03 1004 Camisa Social Branca 3    45   Camisas  \n",
              " [5,] 2023-01-03 1005 Saia Longa           4    25   Saias    \n",
              " [6,] 2023-01-04 1006 Blusa de Algodão     7    60   Blusas   \n",
              " [7,] 2023-01-05 1007 Calça de Moletom     10   40   Calças   \n",
              " [8,] 2023-01-06 1008 Vestido Floral       6    35   Vestidos \n",
              " [9,] 2023-01-07 1009 Terno Completo       1    15   Ternos   \n",
              "[10,] 2023-01-08 1010 Camiseta Básica      15   100  Camisetas"
            ]
          },
          "metadata": {}
        }
      ]
    },
    {
      "cell_type": "code",
      "source": [
        "# Definir os nomes das colunas\n",
        "colnames(sales_data_matrix) <- c(\"Data\", \"ID_Produto\", \"Nome_Produto\", \"Quantidade_Vendida\", \"Estoque_Disponível\", \"Categoria\")\n",
        "\n",
        "# Exibir a matriz\n",
        "sales_data_matrix"
      ],
      "metadata": {
        "colab": {
          "base_uri": "https://localhost:8080/",
          "height": 380
        },
        "id": "8oeki5i9RIqW",
        "outputId": "ad239c72-2ab3-4031-daa8-717f8716bb12"
      },
      "execution_count": 3,
      "outputs": [
        {
          "output_type": "display_data",
          "data": {
            "text/html": [
              "<table class=\"dataframe\">\n",
              "<caption>A matrix: 10 × 6 of type chr</caption>\n",
              "<thead>\n",
              "\t<tr><th scope=col>Data</th><th scope=col>ID_Produto</th><th scope=col>Nome_Produto</th><th scope=col>Quantidade_Vendida</th><th scope=col>Estoque_Disponível</th><th scope=col>Categoria</th></tr>\n",
              "</thead>\n",
              "<tbody>\n",
              "\t<tr><td>2023-01-01</td><td>1001</td><td>Camisa Social Azul  </td><td>5 </td><td>50 </td><td>Camisas  </td></tr>\n",
              "\t<tr><td>2023-01-01</td><td>1002</td><td>Calça Jeans         </td><td>8 </td><td>30 </td><td>Calças   </td></tr>\n",
              "\t<tr><td>2023-01-02</td><td>1003</td><td>Jaqueta de Couro    </td><td>2 </td><td>20 </td><td>Jaquetas </td></tr>\n",
              "\t<tr><td>2023-01-03</td><td>1004</td><td>Camisa Social Branca</td><td>3 </td><td>45 </td><td>Camisas  </td></tr>\n",
              "\t<tr><td>2023-01-03</td><td>1005</td><td>Saia Longa          </td><td>4 </td><td>25 </td><td>Saias    </td></tr>\n",
              "\t<tr><td>2023-01-04</td><td>1006</td><td>Blusa de Algodão    </td><td>7 </td><td>60 </td><td>Blusas   </td></tr>\n",
              "\t<tr><td>2023-01-05</td><td>1007</td><td>Calça de Moletom    </td><td>10</td><td>40 </td><td>Calças   </td></tr>\n",
              "\t<tr><td>2023-01-06</td><td>1008</td><td>Vestido Floral      </td><td>6 </td><td>35 </td><td>Vestidos </td></tr>\n",
              "\t<tr><td>2023-01-07</td><td>1009</td><td>Terno Completo      </td><td>1 </td><td>15 </td><td>Ternos   </td></tr>\n",
              "\t<tr><td>2023-01-08</td><td>1010</td><td>Camiseta Básica     </td><td>15</td><td>100</td><td>Camisetas</td></tr>\n",
              "</tbody>\n",
              "</table>\n"
            ],
            "text/markdown": "\nA matrix: 10 × 6 of type chr\n\n| Data | ID_Produto | Nome_Produto | Quantidade_Vendida | Estoque_Disponível | Categoria |\n|---|---|---|---|---|---|\n| 2023-01-01 | 1001 | Camisa Social Azul   | 5  | 50  | Camisas   |\n| 2023-01-01 | 1002 | Calça Jeans          | 8  | 30  | Calças    |\n| 2023-01-02 | 1003 | Jaqueta de Couro     | 2  | 20  | Jaquetas  |\n| 2023-01-03 | 1004 | Camisa Social Branca | 3  | 45  | Camisas   |\n| 2023-01-03 | 1005 | Saia Longa           | 4  | 25  | Saias     |\n| 2023-01-04 | 1006 | Blusa de Algodão     | 7  | 60  | Blusas    |\n| 2023-01-05 | 1007 | Calça de Moletom     | 10 | 40  | Calças    |\n| 2023-01-06 | 1008 | Vestido Floral       | 6  | 35  | Vestidos  |\n| 2023-01-07 | 1009 | Terno Completo       | 1  | 15  | Ternos    |\n| 2023-01-08 | 1010 | Camiseta Básica      | 15 | 100 | Camisetas |\n\n",
            "text/latex": "A matrix: 10 × 6 of type chr\n\\begin{tabular}{llllll}\n Data & ID\\_Produto & Nome\\_Produto & Quantidade\\_Vendida & Estoque\\_Disponível & Categoria\\\\\n\\hline\n\t 2023-01-01 & 1001 & Camisa Social Azul   & 5  & 50  & Camisas  \\\\\n\t 2023-01-01 & 1002 & Calça Jeans          & 8  & 30  & Calças   \\\\\n\t 2023-01-02 & 1003 & Jaqueta de Couro     & 2  & 20  & Jaquetas \\\\\n\t 2023-01-03 & 1004 & Camisa Social Branca & 3  & 45  & Camisas  \\\\\n\t 2023-01-03 & 1005 & Saia Longa           & 4  & 25  & Saias    \\\\\n\t 2023-01-04 & 1006 & Blusa de Algodão     & 7  & 60  & Blusas   \\\\\n\t 2023-01-05 & 1007 & Calça de Moletom     & 10 & 40  & Calças   \\\\\n\t 2023-01-06 & 1008 & Vestido Floral       & 6  & 35  & Vestidos \\\\\n\t 2023-01-07 & 1009 & Terno Completo       & 1  & 15  & Ternos   \\\\\n\t 2023-01-08 & 1010 & Camiseta Básica      & 15 & 100 & Camisetas\\\\\n\\end{tabular}\n",
            "text/plain": [
              "      Data       ID_Produto Nome_Produto         Quantidade_Vendida\n",
              " [1,] 2023-01-01 1001       Camisa Social Azul   5                 \n",
              " [2,] 2023-01-01 1002       Calça Jeans          8                 \n",
              " [3,] 2023-01-02 1003       Jaqueta de Couro     2                 \n",
              " [4,] 2023-01-03 1004       Camisa Social Branca 3                 \n",
              " [5,] 2023-01-03 1005       Saia Longa           4                 \n",
              " [6,] 2023-01-04 1006       Blusa de Algodão     7                 \n",
              " [7,] 2023-01-05 1007       Calça de Moletom     10                \n",
              " [8,] 2023-01-06 1008       Vestido Floral       6                 \n",
              " [9,] 2023-01-07 1009       Terno Completo       1                 \n",
              "[10,] 2023-01-08 1010       Camiseta Básica      15                \n",
              "      Estoque_Disponível Categoria\n",
              " [1,] 50                 Camisas  \n",
              " [2,] 30                 Calças   \n",
              " [3,] 20                 Jaquetas \n",
              " [4,] 45                 Camisas  \n",
              " [5,] 25                 Saias    \n",
              " [6,] 60                 Blusas   \n",
              " [7,] 40                 Calças   \n",
              " [8,] 35                 Vestidos \n",
              " [9,] 15                 Ternos   \n",
              "[10,] 100                Camisetas"
            ]
          },
          "metadata": {}
        }
      ]
    },
    {
      "cell_type": "code",
      "source": [
        "#Transformando os meus dados em table, para que seja capaz de fazer cálculos em categorias\n",
        "sales_data_table <- as.table(sales_data_matrix)\n",
        "sales_data_table"
      ],
      "metadata": {
        "colab": {
          "base_uri": "https://localhost:8080/",
          "height": 423
        },
        "id": "0x-QboW9RWhD",
        "outputId": "340f7378-58d0-4e7e-c3c4-4d859febe1c4"
      },
      "execution_count": 4,
      "outputs": [
        {
          "output_type": "display_data",
          "data": {
            "text/plain": [
              "  Data       ID_Produto Nome_Produto         Quantidade_Vendida\n",
              "A 2023-01-01 1001       Camisa Social Azul   5                 \n",
              "B 2023-01-01 1002       Calça Jeans          8                 \n",
              "C 2023-01-02 1003       Jaqueta de Couro     2                 \n",
              "D 2023-01-03 1004       Camisa Social Branca 3                 \n",
              "E 2023-01-03 1005       Saia Longa           4                 \n",
              "F 2023-01-04 1006       Blusa de Algodão     7                 \n",
              "G 2023-01-05 1007       Calça de Moletom     10                \n",
              "H 2023-01-06 1008       Vestido Floral       6                 \n",
              "I 2023-01-07 1009       Terno Completo       1                 \n",
              "J 2023-01-08 1010       Camiseta Básica      15                \n",
              "  Estoque_Disponível Categoria\n",
              "A 50                 Camisas  \n",
              "B 30                 Calças   \n",
              "C 20                 Jaquetas \n",
              "D 45                 Camisas  \n",
              "E 25                 Saias    \n",
              "F 60                 Blusas   \n",
              "G 40                 Calças   \n",
              "H 35                 Vestidos \n",
              "I 15                 Ternos   \n",
              "J 100                Camisetas"
            ]
          },
          "metadata": {}
        }
      ]
    },
    {
      "cell_type": "code",
      "source": [
        "categorias <- sales_data_matrix[,6]\n",
        "categorias"
      ],
      "metadata": {
        "colab": {
          "base_uri": "https://localhost:8080/",
          "height": 34
        },
        "id": "o9Ppe016R9bq",
        "outputId": "e21eedb6-f0e4-48d1-8b1b-3a00d04de12a"
      },
      "execution_count": 5,
      "outputs": [
        {
          "output_type": "display_data",
          "data": {
            "text/html": [
              "<style>\n",
              ".list-inline {list-style: none; margin:0; padding: 0}\n",
              ".list-inline>li {display: inline-block}\n",
              ".list-inline>li:not(:last-child)::after {content: \"\\00b7\"; padding: 0 .5ex}\n",
              "</style>\n",
              "<ol class=list-inline><li>'Camisas'</li><li>'Calças'</li><li>'Jaquetas'</li><li>'Camisas'</li><li>'Saias'</li><li>'Blusas'</li><li>'Calças'</li><li>'Vestidos'</li><li>'Ternos'</li><li>'Camisetas'</li></ol>\n"
            ],
            "text/markdown": "1. 'Camisas'\n2. 'Calças'\n3. 'Jaquetas'\n4. 'Camisas'\n5. 'Saias'\n6. 'Blusas'\n7. 'Calças'\n8. 'Vestidos'\n9. 'Ternos'\n10. 'Camisetas'\n\n\n",
            "text/latex": "\\begin{enumerate*}\n\\item 'Camisas'\n\\item 'Calças'\n\\item 'Jaquetas'\n\\item 'Camisas'\n\\item 'Saias'\n\\item 'Blusas'\n\\item 'Calças'\n\\item 'Vestidos'\n\\item 'Ternos'\n\\item 'Camisetas'\n\\end{enumerate*}\n",
            "text/plain": [
              " [1] \"Camisas\"   \"Calças\"    \"Jaquetas\"  \"Camisas\"   \"Saias\"     \"Blusas\"   \n",
              " [7] \"Calças\"    \"Vestidos\"  \"Ternos\"    \"Camisetas\""
            ]
          },
          "metadata": {}
        }
      ]
    },
    {
      "cell_type": "code",
      "source": [
        "#Contagem dos dados categoricos,  quantos produtos temos em cada categoria\n",
        "frequencias <- table(categorias)\n",
        "frequencias"
      ],
      "metadata": {
        "colab": {
          "base_uri": "https://localhost:8080/",
          "height": 72
        },
        "id": "2CDLwBUTSEqI",
        "outputId": "653c3034-3b8b-4776-d926-f87f327e89e6"
      },
      "execution_count": 6,
      "outputs": [
        {
          "output_type": "display_data",
          "data": {
            "text/plain": [
              "categorias\n",
              "   Blusas    Calças   Camisas Camisetas  Jaquetas     Saias    Ternos  Vestidos \n",
              "        1         2         2         1         1         1         1         1 "
            ]
          },
          "metadata": {}
        }
      ]
    },
    {
      "cell_type": "markdown",
      "source": [
        "# **Carregando a base de dados**"
      ],
      "metadata": {
        "id": "beuumZDaUqew"
      }
    },
    {
      "cell_type": "code",
      "source": [
        "path <- \"/content/dados_vendas_inventario_meteora_grande.csv\""
      ],
      "metadata": {
        "id": "paHCrOvFUaK0"
      },
      "execution_count": 7,
      "outputs": []
    },
    {
      "cell_type": "code",
      "source": [
        "sales_data <- read.csv(path)"
      ],
      "metadata": {
        "id": "m7AcAzP1UgwB"
      },
      "execution_count": 8,
      "outputs": []
    },
    {
      "cell_type": "code",
      "source": [
        "sales_data"
      ],
      "metadata": {
        "colab": {
          "base_uri": "https://localhost:8080/",
          "height": 1000
        },
        "id": "jO0hu8gsUnfV",
        "outputId": "e72927d1-3168-431e-918f-f64d78679295"
      },
      "execution_count": 9,
      "outputs": [
        {
          "output_type": "display_data",
          "data": {
            "text/html": [
              "<table class=\"dataframe\">\n",
              "<caption>A data.frame: 310 × 6</caption>\n",
              "<thead>\n",
              "\t<tr><th scope=col>Data</th><th scope=col>ID_Produto</th><th scope=col>Nome_Produto</th><th scope=col>Quantidade_Vendida</th><th scope=col>Estoque_Disponível</th><th scope=col>Categoria</th></tr>\n",
              "\t<tr><th scope=col>&lt;chr&gt;</th><th scope=col>&lt;int&gt;</th><th scope=col>&lt;chr&gt;</th><th scope=col>&lt;int&gt;</th><th scope=col>&lt;int&gt;</th><th scope=col>&lt;chr&gt;</th></tr>\n",
              "</thead>\n",
              "<tbody>\n",
              "\t<tr><td>2023-01-01</td><td>1001</td><td>Camisa Social Azul  </td><td> 7</td><td>35</td><td>Camisas  </td></tr>\n",
              "\t<tr><td>2023-01-01</td><td>1002</td><td>Calça Jeans         </td><td> 7</td><td>58</td><td>Calças   </td></tr>\n",
              "\t<tr><td>2023-01-01</td><td>1003</td><td>Jaqueta de Couro    </td><td> 7</td><td>78</td><td>Jaquetas </td></tr>\n",
              "\t<tr><td>2023-01-01</td><td>1004</td><td>Camisa Social Branca</td><td>15</td><td>24</td><td>Camisas  </td></tr>\n",
              "\t<tr><td>2023-01-01</td><td>1005</td><td>Saia Longa          </td><td> 7</td><td>18</td><td>Saias    </td></tr>\n",
              "\t<tr><td>2023-01-01</td><td>1006</td><td>Blusa de Algodão    </td><td> 8</td><td>48</td><td>Blusas   </td></tr>\n",
              "\t<tr><td>2023-01-01</td><td>1007</td><td>Calça de Moletom    </td><td>10</td><td>36</td><td>Calças   </td></tr>\n",
              "\t<tr><td>2023-01-01</td><td>1008</td><td>Vestido Floral      </td><td> 6</td><td>95</td><td>Vestidos </td></tr>\n",
              "\t<tr><td>2023-01-01</td><td>1009</td><td>Terno Completo      </td><td>11</td><td>62</td><td>Ternos   </td></tr>\n",
              "\t<tr><td>2023-01-01</td><td>1010</td><td>Camiseta Básica     </td><td> 4</td><td>67</td><td>Camisetas</td></tr>\n",
              "\t<tr><td>2023-01-02</td><td>1001</td><td>Camisa Social Azul  </td><td>14</td><td>86</td><td>Camisas  </td></tr>\n",
              "\t<tr><td>2023-01-02</td><td>1002</td><td>Calça Jeans         </td><td>15</td><td>26</td><td>Calças   </td></tr>\n",
              "\t<tr><td>2023-01-02</td><td>1003</td><td>Jaqueta de Couro    </td><td> 1</td><td>19</td><td>Jaquetas </td></tr>\n",
              "\t<tr><td>2023-01-02</td><td>1004</td><td>Camisa Social Branca</td><td> 4</td><td>36</td><td>Camisas  </td></tr>\n",
              "\t<tr><td>2023-01-02</td><td>1005</td><td>Saia Longa          </td><td> 8</td><td>19</td><td>Saias    </td></tr>\n",
              "\t<tr><td>2023-01-02</td><td>1006</td><td>Blusa de Algodão    </td><td> 1</td><td>22</td><td>Blusas   </td></tr>\n",
              "\t<tr><td>2023-01-02</td><td>1007</td><td>Calça de Moletom    </td><td>11</td><td>62</td><td>Calças   </td></tr>\n",
              "\t<tr><td>2023-01-02</td><td>1008</td><td>Vestido Floral      </td><td>10</td><td>74</td><td>Vestidos </td></tr>\n",
              "\t<tr><td>2023-01-02</td><td>1009</td><td>Terno Completo      </td><td> 1</td><td>12</td><td>Ternos   </td></tr>\n",
              "\t<tr><td>2023-01-02</td><td>1010</td><td>Camiseta Básica     </td><td>13</td><td>99</td><td>Camisetas</td></tr>\n",
              "\t<tr><td>2023-01-03</td><td>1001</td><td>Camisa Social Azul  </td><td> 2</td><td>37</td><td>Camisas  </td></tr>\n",
              "\t<tr><td>2023-01-03</td><td>1002</td><td>Calça Jeans         </td><td> 5</td><td>65</td><td>Calças   </td></tr>\n",
              "\t<tr><td>2023-01-03</td><td>1003</td><td>Jaqueta de Couro    </td><td>10</td><td>97</td><td>Jaquetas </td></tr>\n",
              "\t<tr><td>2023-01-03</td><td>1004</td><td>Camisa Social Branca</td><td>12</td><td>44</td><td>Camisas  </td></tr>\n",
              "\t<tr><td>2023-01-03</td><td>1005</td><td>Saia Longa          </td><td>13</td><td>28</td><td>Saias    </td></tr>\n",
              "\t<tr><td>2023-01-03</td><td>1006</td><td>Blusa de Algodão    </td><td> 4</td><td>99</td><td>Blusas   </td></tr>\n",
              "\t<tr><td>2023-01-03</td><td>1007</td><td>Calça de Moletom    </td><td> 5</td><td>24</td><td>Calças   </td></tr>\n",
              "\t<tr><td>2023-01-03</td><td>1008</td><td>Vestido Floral      </td><td>17</td><td>96</td><td>Vestidos </td></tr>\n",
              "\t<tr><td>2023-01-03</td><td>1009</td><td>Terno Completo      </td><td>18</td><td>76</td><td>Ternos   </td></tr>\n",
              "\t<tr><td>2023-01-03</td><td>1010</td><td>Camiseta Básica     </td><td>11</td><td>15</td><td>Camisetas</td></tr>\n",
              "\t<tr><td>⋮</td><td>⋮</td><td>⋮</td><td>⋮</td><td>⋮</td><td>⋮</td></tr>\n",
              "\t<tr><td>2023-01-29</td><td>1001</td><td>Camisa Social Azul  </td><td> 8</td><td>15</td><td>Camisas  </td></tr>\n",
              "\t<tr><td>2023-01-29</td><td>1002</td><td>Calça Jeans         </td><td>12</td><td>37</td><td>Calças   </td></tr>\n",
              "\t<tr><td>2023-01-29</td><td>1003</td><td>Jaqueta de Couro    </td><td>10</td><td>21</td><td>Jaquetas </td></tr>\n",
              "\t<tr><td>2023-01-29</td><td>1004</td><td>Camisa Social Branca</td><td> 6</td><td>49</td><td>Camisas  </td></tr>\n",
              "\t<tr><td>2023-01-29</td><td>1005</td><td>Saia Longa          </td><td> 3</td><td>43</td><td>Saias    </td></tr>\n",
              "\t<tr><td>2023-01-29</td><td>1006</td><td>Blusa de Algodão    </td><td>12</td><td>96</td><td>Blusas   </td></tr>\n",
              "\t<tr><td>2023-01-29</td><td>1007</td><td>Calça de Moletom    </td><td> 1</td><td>18</td><td>Calças   </td></tr>\n",
              "\t<tr><td>2023-01-29</td><td>1008</td><td>Vestido Floral      </td><td> 2</td><td>57</td><td>Vestidos </td></tr>\n",
              "\t<tr><td>2023-01-29</td><td>1009</td><td>Terno Completo      </td><td>10</td><td>97</td><td>Ternos   </td></tr>\n",
              "\t<tr><td>2023-01-29</td><td>1010</td><td>Camiseta Básica     </td><td>12</td><td>42</td><td>Camisetas</td></tr>\n",
              "\t<tr><td>2023-01-30</td><td>1001</td><td>Camisa Social Azul  </td><td> 8</td><td>74</td><td>Camisas  </td></tr>\n",
              "\t<tr><td>2023-01-30</td><td>1002</td><td>Calça Jeans         </td><td> 2</td><td>59</td><td>Calças   </td></tr>\n",
              "\t<tr><td>2023-01-30</td><td>1003</td><td>Jaqueta de Couro    </td><td>11</td><td>45</td><td>Jaquetas </td></tr>\n",
              "\t<tr><td>2023-01-30</td><td>1004</td><td>Camisa Social Branca</td><td>13</td><td>97</td><td>Camisas  </td></tr>\n",
              "\t<tr><td>2023-01-30</td><td>1005</td><td>Saia Longa          </td><td> 4</td><td>62</td><td>Saias    </td></tr>\n",
              "\t<tr><td>2023-01-30</td><td>1006</td><td>Blusa de Algodão    </td><td> 8</td><td>55</td><td>Blusas   </td></tr>\n",
              "\t<tr><td>2023-01-30</td><td>1007</td><td>Calça de Moletom    </td><td>17</td><td>60</td><td>Calças   </td></tr>\n",
              "\t<tr><td>2023-01-30</td><td>1008</td><td>Vestido Floral      </td><td>18</td><td>33</td><td>Vestidos </td></tr>\n",
              "\t<tr><td>2023-01-30</td><td>1009</td><td>Terno Completo      </td><td> 7</td><td>22</td><td>Ternos   </td></tr>\n",
              "\t<tr><td>2023-01-30</td><td>1010</td><td>Camiseta Básica     </td><td> 6</td><td>66</td><td>Camisetas</td></tr>\n",
              "\t<tr><td>2023-01-31</td><td>1001</td><td>Camisa Social Azul  </td><td>18</td><td>72</td><td>Camisas  </td></tr>\n",
              "\t<tr><td>2023-01-31</td><td>1002</td><td>Calça Jeans         </td><td>12</td><td>93</td><td>Calças   </td></tr>\n",
              "\t<tr><td>2023-01-31</td><td>1003</td><td>Jaqueta de Couro    </td><td>12</td><td>45</td><td>Jaquetas </td></tr>\n",
              "\t<tr><td>2023-01-31</td><td>1004</td><td>Camisa Social Branca</td><td> 9</td><td>80</td><td>Camisas  </td></tr>\n",
              "\t<tr><td>2023-01-31</td><td>1005</td><td>Saia Longa          </td><td>11</td><td>67</td><td>Saias    </td></tr>\n",
              "\t<tr><td>2023-01-31</td><td>1006</td><td>Blusa de Algodão    </td><td>10</td><td>41</td><td>Blusas   </td></tr>\n",
              "\t<tr><td>2023-01-31</td><td>1007</td><td>Calça de Moletom    </td><td>11</td><td>40</td><td>Calças   </td></tr>\n",
              "\t<tr><td>2023-01-31</td><td>1008</td><td>Vestido Floral      </td><td>16</td><td>49</td><td>Vestidos </td></tr>\n",
              "\t<tr><td>2023-01-31</td><td>1009</td><td>Terno Completo      </td><td> 6</td><td>65</td><td>Ternos   </td></tr>\n",
              "\t<tr><td>2023-01-31</td><td>1010</td><td>Camiseta Básica     </td><td>16</td><td>54</td><td>Camisetas</td></tr>\n",
              "</tbody>\n",
              "</table>\n"
            ],
            "text/markdown": "\nA data.frame: 310 × 6\n\n| Data &lt;chr&gt; | ID_Produto &lt;int&gt; | Nome_Produto &lt;chr&gt; | Quantidade_Vendida &lt;int&gt; | Estoque_Disponível &lt;int&gt; | Categoria &lt;chr&gt; |\n|---|---|---|---|---|---|\n| 2023-01-01 | 1001 | Camisa Social Azul   |  7 | 35 | Camisas   |\n| 2023-01-01 | 1002 | Calça Jeans          |  7 | 58 | Calças    |\n| 2023-01-01 | 1003 | Jaqueta de Couro     |  7 | 78 | Jaquetas  |\n| 2023-01-01 | 1004 | Camisa Social Branca | 15 | 24 | Camisas   |\n| 2023-01-01 | 1005 | Saia Longa           |  7 | 18 | Saias     |\n| 2023-01-01 | 1006 | Blusa de Algodão     |  8 | 48 | Blusas    |\n| 2023-01-01 | 1007 | Calça de Moletom     | 10 | 36 | Calças    |\n| 2023-01-01 | 1008 | Vestido Floral       |  6 | 95 | Vestidos  |\n| 2023-01-01 | 1009 | Terno Completo       | 11 | 62 | Ternos    |\n| 2023-01-01 | 1010 | Camiseta Básica      |  4 | 67 | Camisetas |\n| 2023-01-02 | 1001 | Camisa Social Azul   | 14 | 86 | Camisas   |\n| 2023-01-02 | 1002 | Calça Jeans          | 15 | 26 | Calças    |\n| 2023-01-02 | 1003 | Jaqueta de Couro     |  1 | 19 | Jaquetas  |\n| 2023-01-02 | 1004 | Camisa Social Branca |  4 | 36 | Camisas   |\n| 2023-01-02 | 1005 | Saia Longa           |  8 | 19 | Saias     |\n| 2023-01-02 | 1006 | Blusa de Algodão     |  1 | 22 | Blusas    |\n| 2023-01-02 | 1007 | Calça de Moletom     | 11 | 62 | Calças    |\n| 2023-01-02 | 1008 | Vestido Floral       | 10 | 74 | Vestidos  |\n| 2023-01-02 | 1009 | Terno Completo       |  1 | 12 | Ternos    |\n| 2023-01-02 | 1010 | Camiseta Básica      | 13 | 99 | Camisetas |\n| 2023-01-03 | 1001 | Camisa Social Azul   |  2 | 37 | Camisas   |\n| 2023-01-03 | 1002 | Calça Jeans          |  5 | 65 | Calças    |\n| 2023-01-03 | 1003 | Jaqueta de Couro     | 10 | 97 | Jaquetas  |\n| 2023-01-03 | 1004 | Camisa Social Branca | 12 | 44 | Camisas   |\n| 2023-01-03 | 1005 | Saia Longa           | 13 | 28 | Saias     |\n| 2023-01-03 | 1006 | Blusa de Algodão     |  4 | 99 | Blusas    |\n| 2023-01-03 | 1007 | Calça de Moletom     |  5 | 24 | Calças    |\n| 2023-01-03 | 1008 | Vestido Floral       | 17 | 96 | Vestidos  |\n| 2023-01-03 | 1009 | Terno Completo       | 18 | 76 | Ternos    |\n| 2023-01-03 | 1010 | Camiseta Básica      | 11 | 15 | Camisetas |\n| ⋮ | ⋮ | ⋮ | ⋮ | ⋮ | ⋮ |\n| 2023-01-29 | 1001 | Camisa Social Azul   |  8 | 15 | Camisas   |\n| 2023-01-29 | 1002 | Calça Jeans          | 12 | 37 | Calças    |\n| 2023-01-29 | 1003 | Jaqueta de Couro     | 10 | 21 | Jaquetas  |\n| 2023-01-29 | 1004 | Camisa Social Branca |  6 | 49 | Camisas   |\n| 2023-01-29 | 1005 | Saia Longa           |  3 | 43 | Saias     |\n| 2023-01-29 | 1006 | Blusa de Algodão     | 12 | 96 | Blusas    |\n| 2023-01-29 | 1007 | Calça de Moletom     |  1 | 18 | Calças    |\n| 2023-01-29 | 1008 | Vestido Floral       |  2 | 57 | Vestidos  |\n| 2023-01-29 | 1009 | Terno Completo       | 10 | 97 | Ternos    |\n| 2023-01-29 | 1010 | Camiseta Básica      | 12 | 42 | Camisetas |\n| 2023-01-30 | 1001 | Camisa Social Azul   |  8 | 74 | Camisas   |\n| 2023-01-30 | 1002 | Calça Jeans          |  2 | 59 | Calças    |\n| 2023-01-30 | 1003 | Jaqueta de Couro     | 11 | 45 | Jaquetas  |\n| 2023-01-30 | 1004 | Camisa Social Branca | 13 | 97 | Camisas   |\n| 2023-01-30 | 1005 | Saia Longa           |  4 | 62 | Saias     |\n| 2023-01-30 | 1006 | Blusa de Algodão     |  8 | 55 | Blusas    |\n| 2023-01-30 | 1007 | Calça de Moletom     | 17 | 60 | Calças    |\n| 2023-01-30 | 1008 | Vestido Floral       | 18 | 33 | Vestidos  |\n| 2023-01-30 | 1009 | Terno Completo       |  7 | 22 | Ternos    |\n| 2023-01-30 | 1010 | Camiseta Básica      |  6 | 66 | Camisetas |\n| 2023-01-31 | 1001 | Camisa Social Azul   | 18 | 72 | Camisas   |\n| 2023-01-31 | 1002 | Calça Jeans          | 12 | 93 | Calças    |\n| 2023-01-31 | 1003 | Jaqueta de Couro     | 12 | 45 | Jaquetas  |\n| 2023-01-31 | 1004 | Camisa Social Branca |  9 | 80 | Camisas   |\n| 2023-01-31 | 1005 | Saia Longa           | 11 | 67 | Saias     |\n| 2023-01-31 | 1006 | Blusa de Algodão     | 10 | 41 | Blusas    |\n| 2023-01-31 | 1007 | Calça de Moletom     | 11 | 40 | Calças    |\n| 2023-01-31 | 1008 | Vestido Floral       | 16 | 49 | Vestidos  |\n| 2023-01-31 | 1009 | Terno Completo       |  6 | 65 | Ternos    |\n| 2023-01-31 | 1010 | Camiseta Básica      | 16 | 54 | Camisetas |\n\n",
            "text/latex": "A data.frame: 310 × 6\n\\begin{tabular}{llllll}\n Data & ID\\_Produto & Nome\\_Produto & Quantidade\\_Vendida & Estoque\\_Disponível & Categoria\\\\\n <chr> & <int> & <chr> & <int> & <int> & <chr>\\\\\n\\hline\n\t 2023-01-01 & 1001 & Camisa Social Azul   &  7 & 35 & Camisas  \\\\\n\t 2023-01-01 & 1002 & Calça Jeans          &  7 & 58 & Calças   \\\\\n\t 2023-01-01 & 1003 & Jaqueta de Couro     &  7 & 78 & Jaquetas \\\\\n\t 2023-01-01 & 1004 & Camisa Social Branca & 15 & 24 & Camisas  \\\\\n\t 2023-01-01 & 1005 & Saia Longa           &  7 & 18 & Saias    \\\\\n\t 2023-01-01 & 1006 & Blusa de Algodão     &  8 & 48 & Blusas   \\\\\n\t 2023-01-01 & 1007 & Calça de Moletom     & 10 & 36 & Calças   \\\\\n\t 2023-01-01 & 1008 & Vestido Floral       &  6 & 95 & Vestidos \\\\\n\t 2023-01-01 & 1009 & Terno Completo       & 11 & 62 & Ternos   \\\\\n\t 2023-01-01 & 1010 & Camiseta Básica      &  4 & 67 & Camisetas\\\\\n\t 2023-01-02 & 1001 & Camisa Social Azul   & 14 & 86 & Camisas  \\\\\n\t 2023-01-02 & 1002 & Calça Jeans          & 15 & 26 & Calças   \\\\\n\t 2023-01-02 & 1003 & Jaqueta de Couro     &  1 & 19 & Jaquetas \\\\\n\t 2023-01-02 & 1004 & Camisa Social Branca &  4 & 36 & Camisas  \\\\\n\t 2023-01-02 & 1005 & Saia Longa           &  8 & 19 & Saias    \\\\\n\t 2023-01-02 & 1006 & Blusa de Algodão     &  1 & 22 & Blusas   \\\\\n\t 2023-01-02 & 1007 & Calça de Moletom     & 11 & 62 & Calças   \\\\\n\t 2023-01-02 & 1008 & Vestido Floral       & 10 & 74 & Vestidos \\\\\n\t 2023-01-02 & 1009 & Terno Completo       &  1 & 12 & Ternos   \\\\\n\t 2023-01-02 & 1010 & Camiseta Básica      & 13 & 99 & Camisetas\\\\\n\t 2023-01-03 & 1001 & Camisa Social Azul   &  2 & 37 & Camisas  \\\\\n\t 2023-01-03 & 1002 & Calça Jeans          &  5 & 65 & Calças   \\\\\n\t 2023-01-03 & 1003 & Jaqueta de Couro     & 10 & 97 & Jaquetas \\\\\n\t 2023-01-03 & 1004 & Camisa Social Branca & 12 & 44 & Camisas  \\\\\n\t 2023-01-03 & 1005 & Saia Longa           & 13 & 28 & Saias    \\\\\n\t 2023-01-03 & 1006 & Blusa de Algodão     &  4 & 99 & Blusas   \\\\\n\t 2023-01-03 & 1007 & Calça de Moletom     &  5 & 24 & Calças   \\\\\n\t 2023-01-03 & 1008 & Vestido Floral       & 17 & 96 & Vestidos \\\\\n\t 2023-01-03 & 1009 & Terno Completo       & 18 & 76 & Ternos   \\\\\n\t 2023-01-03 & 1010 & Camiseta Básica      & 11 & 15 & Camisetas\\\\\n\t ⋮ & ⋮ & ⋮ & ⋮ & ⋮ & ⋮\\\\\n\t 2023-01-29 & 1001 & Camisa Social Azul   &  8 & 15 & Camisas  \\\\\n\t 2023-01-29 & 1002 & Calça Jeans          & 12 & 37 & Calças   \\\\\n\t 2023-01-29 & 1003 & Jaqueta de Couro     & 10 & 21 & Jaquetas \\\\\n\t 2023-01-29 & 1004 & Camisa Social Branca &  6 & 49 & Camisas  \\\\\n\t 2023-01-29 & 1005 & Saia Longa           &  3 & 43 & Saias    \\\\\n\t 2023-01-29 & 1006 & Blusa de Algodão     & 12 & 96 & Blusas   \\\\\n\t 2023-01-29 & 1007 & Calça de Moletom     &  1 & 18 & Calças   \\\\\n\t 2023-01-29 & 1008 & Vestido Floral       &  2 & 57 & Vestidos \\\\\n\t 2023-01-29 & 1009 & Terno Completo       & 10 & 97 & Ternos   \\\\\n\t 2023-01-29 & 1010 & Camiseta Básica      & 12 & 42 & Camisetas\\\\\n\t 2023-01-30 & 1001 & Camisa Social Azul   &  8 & 74 & Camisas  \\\\\n\t 2023-01-30 & 1002 & Calça Jeans          &  2 & 59 & Calças   \\\\\n\t 2023-01-30 & 1003 & Jaqueta de Couro     & 11 & 45 & Jaquetas \\\\\n\t 2023-01-30 & 1004 & Camisa Social Branca & 13 & 97 & Camisas  \\\\\n\t 2023-01-30 & 1005 & Saia Longa           &  4 & 62 & Saias    \\\\\n\t 2023-01-30 & 1006 & Blusa de Algodão     &  8 & 55 & Blusas   \\\\\n\t 2023-01-30 & 1007 & Calça de Moletom     & 17 & 60 & Calças   \\\\\n\t 2023-01-30 & 1008 & Vestido Floral       & 18 & 33 & Vestidos \\\\\n\t 2023-01-30 & 1009 & Terno Completo       &  7 & 22 & Ternos   \\\\\n\t 2023-01-30 & 1010 & Camiseta Básica      &  6 & 66 & Camisetas\\\\\n\t 2023-01-31 & 1001 & Camisa Social Azul   & 18 & 72 & Camisas  \\\\\n\t 2023-01-31 & 1002 & Calça Jeans          & 12 & 93 & Calças   \\\\\n\t 2023-01-31 & 1003 & Jaqueta de Couro     & 12 & 45 & Jaquetas \\\\\n\t 2023-01-31 & 1004 & Camisa Social Branca &  9 & 80 & Camisas  \\\\\n\t 2023-01-31 & 1005 & Saia Longa           & 11 & 67 & Saias    \\\\\n\t 2023-01-31 & 1006 & Blusa de Algodão     & 10 & 41 & Blusas   \\\\\n\t 2023-01-31 & 1007 & Calça de Moletom     & 11 & 40 & Calças   \\\\\n\t 2023-01-31 & 1008 & Vestido Floral       & 16 & 49 & Vestidos \\\\\n\t 2023-01-31 & 1009 & Terno Completo       &  6 & 65 & Ternos   \\\\\n\t 2023-01-31 & 1010 & Camiseta Básica      & 16 & 54 & Camisetas\\\\\n\\end{tabular}\n",
            "text/plain": [
              "    Data       ID_Produto Nome_Produto         Quantidade_Vendida\n",
              "1   2023-01-01 1001       Camisa Social Azul    7                \n",
              "2   2023-01-01 1002       Calça Jeans           7                \n",
              "3   2023-01-01 1003       Jaqueta de Couro      7                \n",
              "4   2023-01-01 1004       Camisa Social Branca 15                \n",
              "5   2023-01-01 1005       Saia Longa            7                \n",
              "6   2023-01-01 1006       Blusa de Algodão      8                \n",
              "7   2023-01-01 1007       Calça de Moletom     10                \n",
              "8   2023-01-01 1008       Vestido Floral        6                \n",
              "9   2023-01-01 1009       Terno Completo       11                \n",
              "10  2023-01-01 1010       Camiseta Básica       4                \n",
              "11  2023-01-02 1001       Camisa Social Azul   14                \n",
              "12  2023-01-02 1002       Calça Jeans          15                \n",
              "13  2023-01-02 1003       Jaqueta de Couro      1                \n",
              "14  2023-01-02 1004       Camisa Social Branca  4                \n",
              "15  2023-01-02 1005       Saia Longa            8                \n",
              "16  2023-01-02 1006       Blusa de Algodão      1                \n",
              "17  2023-01-02 1007       Calça de Moletom     11                \n",
              "18  2023-01-02 1008       Vestido Floral       10                \n",
              "19  2023-01-02 1009       Terno Completo        1                \n",
              "20  2023-01-02 1010       Camiseta Básica      13                \n",
              "21  2023-01-03 1001       Camisa Social Azul    2                \n",
              "22  2023-01-03 1002       Calça Jeans           5                \n",
              "23  2023-01-03 1003       Jaqueta de Couro     10                \n",
              "24  2023-01-03 1004       Camisa Social Branca 12                \n",
              "25  2023-01-03 1005       Saia Longa           13                \n",
              "26  2023-01-03 1006       Blusa de Algodão      4                \n",
              "27  2023-01-03 1007       Calça de Moletom      5                \n",
              "28  2023-01-03 1008       Vestido Floral       17                \n",
              "29  2023-01-03 1009       Terno Completo       18                \n",
              "30  2023-01-03 1010       Camiseta Básica      11                \n",
              "⋮   ⋮          ⋮          ⋮                    ⋮                 \n",
              "281 2023-01-29 1001       Camisa Social Azul    8                \n",
              "282 2023-01-29 1002       Calça Jeans          12                \n",
              "283 2023-01-29 1003       Jaqueta de Couro     10                \n",
              "284 2023-01-29 1004       Camisa Social Branca  6                \n",
              "285 2023-01-29 1005       Saia Longa            3                \n",
              "286 2023-01-29 1006       Blusa de Algodão     12                \n",
              "287 2023-01-29 1007       Calça de Moletom      1                \n",
              "288 2023-01-29 1008       Vestido Floral        2                \n",
              "289 2023-01-29 1009       Terno Completo       10                \n",
              "290 2023-01-29 1010       Camiseta Básica      12                \n",
              "291 2023-01-30 1001       Camisa Social Azul    8                \n",
              "292 2023-01-30 1002       Calça Jeans           2                \n",
              "293 2023-01-30 1003       Jaqueta de Couro     11                \n",
              "294 2023-01-30 1004       Camisa Social Branca 13                \n",
              "295 2023-01-30 1005       Saia Longa            4                \n",
              "296 2023-01-30 1006       Blusa de Algodão      8                \n",
              "297 2023-01-30 1007       Calça de Moletom     17                \n",
              "298 2023-01-30 1008       Vestido Floral       18                \n",
              "299 2023-01-30 1009       Terno Completo        7                \n",
              "300 2023-01-30 1010       Camiseta Básica       6                \n",
              "301 2023-01-31 1001       Camisa Social Azul   18                \n",
              "302 2023-01-31 1002       Calça Jeans          12                \n",
              "303 2023-01-31 1003       Jaqueta de Couro     12                \n",
              "304 2023-01-31 1004       Camisa Social Branca  9                \n",
              "305 2023-01-31 1005       Saia Longa           11                \n",
              "306 2023-01-31 1006       Blusa de Algodão     10                \n",
              "307 2023-01-31 1007       Calça de Moletom     11                \n",
              "308 2023-01-31 1008       Vestido Floral       16                \n",
              "309 2023-01-31 1009       Terno Completo        6                \n",
              "310 2023-01-31 1010       Camiseta Básica      16                \n",
              "    Estoque_Disponível Categoria\n",
              "1   35                 Camisas  \n",
              "2   58                 Calças   \n",
              "3   78                 Jaquetas \n",
              "4   24                 Camisas  \n",
              "5   18                 Saias    \n",
              "6   48                 Blusas   \n",
              "7   36                 Calças   \n",
              "8   95                 Vestidos \n",
              "9   62                 Ternos   \n",
              "10  67                 Camisetas\n",
              "11  86                 Camisas  \n",
              "12  26                 Calças   \n",
              "13  19                 Jaquetas \n",
              "14  36                 Camisas  \n",
              "15  19                 Saias    \n",
              "16  22                 Blusas   \n",
              "17  62                 Calças   \n",
              "18  74                 Vestidos \n",
              "19  12                 Ternos   \n",
              "20  99                 Camisetas\n",
              "21  37                 Camisas  \n",
              "22  65                 Calças   \n",
              "23  97                 Jaquetas \n",
              "24  44                 Camisas  \n",
              "25  28                 Saias    \n",
              "26  99                 Blusas   \n",
              "27  24                 Calças   \n",
              "28  96                 Vestidos \n",
              "29  76                 Ternos   \n",
              "30  15                 Camisetas\n",
              "⋮   ⋮                  ⋮        \n",
              "281 15                 Camisas  \n",
              "282 37                 Calças   \n",
              "283 21                 Jaquetas \n",
              "284 49                 Camisas  \n",
              "285 43                 Saias    \n",
              "286 96                 Blusas   \n",
              "287 18                 Calças   \n",
              "288 57                 Vestidos \n",
              "289 97                 Ternos   \n",
              "290 42                 Camisetas\n",
              "291 74                 Camisas  \n",
              "292 59                 Calças   \n",
              "293 45                 Jaquetas \n",
              "294 97                 Camisas  \n",
              "295 62                 Saias    \n",
              "296 55                 Blusas   \n",
              "297 60                 Calças   \n",
              "298 33                 Vestidos \n",
              "299 22                 Ternos   \n",
              "300 66                 Camisetas\n",
              "301 72                 Camisas  \n",
              "302 93                 Calças   \n",
              "303 45                 Jaquetas \n",
              "304 80                 Camisas  \n",
              "305 67                 Saias    \n",
              "306 41                 Blusas   \n",
              "307 40                 Calças   \n",
              "308 49                 Vestidos \n",
              "309 65                 Ternos   \n",
              "310 54                 Camisetas"
            ]
          },
          "metadata": {}
        }
      ]
    },
    {
      "cell_type": "code",
      "source": [
        "#Assim eu verifico se meus dados são um dataframe ou outro tipo de dados\n",
        "class(sales_data)"
      ],
      "metadata": {
        "colab": {
          "base_uri": "https://localhost:8080/",
          "height": 34
        },
        "id": "R-mTk_WOU16x",
        "outputId": "24deca72-6f55-48ea-da9c-2129fac79426"
      },
      "execution_count": 10,
      "outputs": [
        {
          "output_type": "display_data",
          "data": {
            "text/html": [
              "'data.frame'"
            ],
            "text/markdown": "'data.frame'",
            "text/latex": "'data.frame'",
            "text/plain": [
              "[1] \"data.frame\""
            ]
          },
          "metadata": {}
        }
      ]
    },
    {
      "cell_type": "code",
      "source": [
        "head(sales_data)"
      ],
      "metadata": {
        "colab": {
          "base_uri": "https://localhost:8080/",
          "height": 286
        },
        "id": "kXDqij7-VAIR",
        "outputId": "d3f34566-faa7-438e-96cf-e0d0c9a1e50c"
      },
      "execution_count": 11,
      "outputs": [
        {
          "output_type": "display_data",
          "data": {
            "text/html": [
              "<table class=\"dataframe\">\n",
              "<caption>A data.frame: 6 × 6</caption>\n",
              "<thead>\n",
              "\t<tr><th></th><th scope=col>Data</th><th scope=col>ID_Produto</th><th scope=col>Nome_Produto</th><th scope=col>Quantidade_Vendida</th><th scope=col>Estoque_Disponível</th><th scope=col>Categoria</th></tr>\n",
              "\t<tr><th></th><th scope=col>&lt;chr&gt;</th><th scope=col>&lt;int&gt;</th><th scope=col>&lt;chr&gt;</th><th scope=col>&lt;int&gt;</th><th scope=col>&lt;int&gt;</th><th scope=col>&lt;chr&gt;</th></tr>\n",
              "</thead>\n",
              "<tbody>\n",
              "\t<tr><th scope=row>1</th><td>2023-01-01</td><td>1001</td><td>Camisa Social Azul  </td><td> 7</td><td>35</td><td>Camisas </td></tr>\n",
              "\t<tr><th scope=row>2</th><td>2023-01-01</td><td>1002</td><td>Calça Jeans         </td><td> 7</td><td>58</td><td>Calças  </td></tr>\n",
              "\t<tr><th scope=row>3</th><td>2023-01-01</td><td>1003</td><td>Jaqueta de Couro    </td><td> 7</td><td>78</td><td>Jaquetas</td></tr>\n",
              "\t<tr><th scope=row>4</th><td>2023-01-01</td><td>1004</td><td>Camisa Social Branca</td><td>15</td><td>24</td><td>Camisas </td></tr>\n",
              "\t<tr><th scope=row>5</th><td>2023-01-01</td><td>1005</td><td>Saia Longa          </td><td> 7</td><td>18</td><td>Saias   </td></tr>\n",
              "\t<tr><th scope=row>6</th><td>2023-01-01</td><td>1006</td><td>Blusa de Algodão    </td><td> 8</td><td>48</td><td>Blusas  </td></tr>\n",
              "</tbody>\n",
              "</table>\n"
            ],
            "text/markdown": "\nA data.frame: 6 × 6\n\n| <!--/--> | Data &lt;chr&gt; | ID_Produto &lt;int&gt; | Nome_Produto &lt;chr&gt; | Quantidade_Vendida &lt;int&gt; | Estoque_Disponível &lt;int&gt; | Categoria &lt;chr&gt; |\n|---|---|---|---|---|---|---|\n| 1 | 2023-01-01 | 1001 | Camisa Social Azul   |  7 | 35 | Camisas  |\n| 2 | 2023-01-01 | 1002 | Calça Jeans          |  7 | 58 | Calças   |\n| 3 | 2023-01-01 | 1003 | Jaqueta de Couro     |  7 | 78 | Jaquetas |\n| 4 | 2023-01-01 | 1004 | Camisa Social Branca | 15 | 24 | Camisas  |\n| 5 | 2023-01-01 | 1005 | Saia Longa           |  7 | 18 | Saias    |\n| 6 | 2023-01-01 | 1006 | Blusa de Algodão     |  8 | 48 | Blusas   |\n\n",
            "text/latex": "A data.frame: 6 × 6\n\\begin{tabular}{r|llllll}\n  & Data & ID\\_Produto & Nome\\_Produto & Quantidade\\_Vendida & Estoque\\_Disponível & Categoria\\\\\n  & <chr> & <int> & <chr> & <int> & <int> & <chr>\\\\\n\\hline\n\t1 & 2023-01-01 & 1001 & Camisa Social Azul   &  7 & 35 & Camisas \\\\\n\t2 & 2023-01-01 & 1002 & Calça Jeans          &  7 & 58 & Calças  \\\\\n\t3 & 2023-01-01 & 1003 & Jaqueta de Couro     &  7 & 78 & Jaquetas\\\\\n\t4 & 2023-01-01 & 1004 & Camisa Social Branca & 15 & 24 & Camisas \\\\\n\t5 & 2023-01-01 & 1005 & Saia Longa           &  7 & 18 & Saias   \\\\\n\t6 & 2023-01-01 & 1006 & Blusa de Algodão     &  8 & 48 & Blusas  \\\\\n\\end{tabular}\n",
            "text/plain": [
              "  Data       ID_Produto Nome_Produto         Quantidade_Vendida\n",
              "1 2023-01-01 1001       Camisa Social Azul    7                \n",
              "2 2023-01-01 1002       Calça Jeans           7                \n",
              "3 2023-01-01 1003       Jaqueta de Couro      7                \n",
              "4 2023-01-01 1004       Camisa Social Branca 15                \n",
              "5 2023-01-01 1005       Saia Longa            7                \n",
              "6 2023-01-01 1006       Blusa de Algodão      8                \n",
              "  Estoque_Disponível Categoria\n",
              "1 35                 Camisas  \n",
              "2 58                 Calças   \n",
              "3 78                 Jaquetas \n",
              "4 24                 Camisas  \n",
              "5 18                 Saias    \n",
              "6 48                 Blusas   "
            ]
          },
          "metadata": {}
        }
      ]
    },
    {
      "cell_type": "code",
      "source": [
        "#Acessando dados dentro do vetor\n",
        "sales_data[1,3]"
      ],
      "metadata": {
        "colab": {
          "base_uri": "https://localhost:8080/",
          "height": 34
        },
        "id": "gjvtESfgVDvT",
        "outputId": "4ddd9c5f-f9f1-4b8a-b9b6-65947800b543"
      },
      "execution_count": 12,
      "outputs": [
        {
          "output_type": "display_data",
          "data": {
            "text/html": [
              "'Camisa Social Azul'"
            ],
            "text/markdown": "'Camisa Social Azul'",
            "text/latex": "'Camisa Social Azul'",
            "text/plain": [
              "[1] \"Camisa Social Azul\""
            ]
          },
          "metadata": {}
        }
      ]
    },
    {
      "cell_type": "code",
      "source": [
        "sales_data[1, \"Nome_Produto\"]"
      ],
      "metadata": {
        "id": "0ZAdFVYLVQzf",
        "outputId": "f39fadd3-fa87-4c5b-cefd-9bb820d8d4c9",
        "colab": {
          "base_uri": "https://localhost:8080/",
          "height": 34
        }
      },
      "execution_count": 13,
      "outputs": [
        {
          "output_type": "display_data",
          "data": {
            "text/html": [
              "'Camisa Social Azul'"
            ],
            "text/markdown": "'Camisa Social Azul'",
            "text/latex": "'Camisa Social Azul'",
            "text/plain": [
              "[1] \"Camisa Social Azul\""
            ]
          },
          "metadata": {}
        }
      ]
    },
    {
      "cell_type": "code",
      "source": [
        "#Traz dados estatísticos sobre a base de dados\n",
        "summary(sales_data)"
      ],
      "metadata": {
        "colab": {
          "base_uri": "https://localhost:8080/",
          "height": 275
        },
        "id": "3IP7qojBuVu3",
        "outputId": "8e0cba79-e11c-4a5f-d490-c57c4c79a2be"
      },
      "execution_count": 14,
      "outputs": [
        {
          "output_type": "display_data",
          "data": {
            "text/plain": [
              "     Data             ID_Produto   Nome_Produto       Quantidade_Vendida\n",
              " Length:310         Min.   :1001   Length:310         Min.   : 1.00     \n",
              " Class :character   1st Qu.:1003   Class :character   1st Qu.: 6.00     \n",
              " Mode  :character   Median :1006   Mode  :character   Median :11.00     \n",
              "                    Mean   :1006                      Mean   :10.64     \n",
              "                    3rd Qu.:1008                      3rd Qu.:15.75     \n",
              "                    Max.   :1010                      Max.   :19.00     \n",
              " Estoque_Disponível  Categoria        \n",
              " Min.   :10.00      Length:310        \n",
              " 1st Qu.:33.00      Class :character  \n",
              " Median :54.00      Mode  :character  \n",
              " Mean   :54.39                        \n",
              " 3rd Qu.:76.00                        \n",
              " Max.   :99.00                        "
            ]
          },
          "metadata": {}
        }
      ]
    },
    {
      "cell_type": "code",
      "source": [
        "#Criando um nome dataframe apenas com as categorias de camisas\n",
        "camisas_df <- subset(sales_data, Categoria == \"Camisas\")\n",
        "head(camisas_df)"
      ],
      "metadata": {
        "colab": {
          "base_uri": "https://localhost:8080/",
          "height": 286
        },
        "id": "uBiTL0_8uhqu",
        "outputId": "641975af-8b34-4d1c-f3b0-99f729cf564b"
      },
      "execution_count": 15,
      "outputs": [
        {
          "output_type": "display_data",
          "data": {
            "text/html": [
              "<table class=\"dataframe\">\n",
              "<caption>A data.frame: 6 × 6</caption>\n",
              "<thead>\n",
              "\t<tr><th></th><th scope=col>Data</th><th scope=col>ID_Produto</th><th scope=col>Nome_Produto</th><th scope=col>Quantidade_Vendida</th><th scope=col>Estoque_Disponível</th><th scope=col>Categoria</th></tr>\n",
              "\t<tr><th></th><th scope=col>&lt;chr&gt;</th><th scope=col>&lt;int&gt;</th><th scope=col>&lt;chr&gt;</th><th scope=col>&lt;int&gt;</th><th scope=col>&lt;int&gt;</th><th scope=col>&lt;chr&gt;</th></tr>\n",
              "</thead>\n",
              "<tbody>\n",
              "\t<tr><th scope=row>1</th><td>2023-01-01</td><td>1001</td><td>Camisa Social Azul  </td><td> 7</td><td>35</td><td>Camisas</td></tr>\n",
              "\t<tr><th scope=row>4</th><td>2023-01-01</td><td>1004</td><td>Camisa Social Branca</td><td>15</td><td>24</td><td>Camisas</td></tr>\n",
              "\t<tr><th scope=row>11</th><td>2023-01-02</td><td>1001</td><td>Camisa Social Azul  </td><td>14</td><td>86</td><td>Camisas</td></tr>\n",
              "\t<tr><th scope=row>14</th><td>2023-01-02</td><td>1004</td><td>Camisa Social Branca</td><td> 4</td><td>36</td><td>Camisas</td></tr>\n",
              "\t<tr><th scope=row>21</th><td>2023-01-03</td><td>1001</td><td>Camisa Social Azul  </td><td> 2</td><td>37</td><td>Camisas</td></tr>\n",
              "\t<tr><th scope=row>24</th><td>2023-01-03</td><td>1004</td><td>Camisa Social Branca</td><td>12</td><td>44</td><td>Camisas</td></tr>\n",
              "</tbody>\n",
              "</table>\n"
            ],
            "text/markdown": "\nA data.frame: 6 × 6\n\n| <!--/--> | Data &lt;chr&gt; | ID_Produto &lt;int&gt; | Nome_Produto &lt;chr&gt; | Quantidade_Vendida &lt;int&gt; | Estoque_Disponível &lt;int&gt; | Categoria &lt;chr&gt; |\n|---|---|---|---|---|---|---|\n| 1 | 2023-01-01 | 1001 | Camisa Social Azul   |  7 | 35 | Camisas |\n| 4 | 2023-01-01 | 1004 | Camisa Social Branca | 15 | 24 | Camisas |\n| 11 | 2023-01-02 | 1001 | Camisa Social Azul   | 14 | 86 | Camisas |\n| 14 | 2023-01-02 | 1004 | Camisa Social Branca |  4 | 36 | Camisas |\n| 21 | 2023-01-03 | 1001 | Camisa Social Azul   |  2 | 37 | Camisas |\n| 24 | 2023-01-03 | 1004 | Camisa Social Branca | 12 | 44 | Camisas |\n\n",
            "text/latex": "A data.frame: 6 × 6\n\\begin{tabular}{r|llllll}\n  & Data & ID\\_Produto & Nome\\_Produto & Quantidade\\_Vendida & Estoque\\_Disponível & Categoria\\\\\n  & <chr> & <int> & <chr> & <int> & <int> & <chr>\\\\\n\\hline\n\t1 & 2023-01-01 & 1001 & Camisa Social Azul   &  7 & 35 & Camisas\\\\\n\t4 & 2023-01-01 & 1004 & Camisa Social Branca & 15 & 24 & Camisas\\\\\n\t11 & 2023-01-02 & 1001 & Camisa Social Azul   & 14 & 86 & Camisas\\\\\n\t14 & 2023-01-02 & 1004 & Camisa Social Branca &  4 & 36 & Camisas\\\\\n\t21 & 2023-01-03 & 1001 & Camisa Social Azul   &  2 & 37 & Camisas\\\\\n\t24 & 2023-01-03 & 1004 & Camisa Social Branca & 12 & 44 & Camisas\\\\\n\\end{tabular}\n",
            "text/plain": [
              "   Data       ID_Produto Nome_Produto         Quantidade_Vendida\n",
              "1  2023-01-01 1001       Camisa Social Azul    7                \n",
              "4  2023-01-01 1004       Camisa Social Branca 15                \n",
              "11 2023-01-02 1001       Camisa Social Azul   14                \n",
              "14 2023-01-02 1004       Camisa Social Branca  4                \n",
              "21 2023-01-03 1001       Camisa Social Azul    2                \n",
              "24 2023-01-03 1004       Camisa Social Branca 12                \n",
              "   Estoque_Disponível Categoria\n",
              "1  35                 Camisas  \n",
              "4  24                 Camisas  \n",
              "11 86                 Camisas  \n",
              "14 36                 Camisas  \n",
              "21 37                 Camisas  \n",
              "24 44                 Camisas  "
            ]
          },
          "metadata": {}
        }
      ]
    },
    {
      "cell_type": "code",
      "source": [
        "#Min -> esse dado mostra no menor valor, isso significa que não há valores negativos.\n",
        "summary(camisas_df)"
      ],
      "metadata": {
        "colab": {
          "base_uri": "https://localhost:8080/",
          "height": 275
        },
        "id": "-yrK3FHmvlTm",
        "outputId": "720f4806-eaf6-4bbc-8c60-2bb34c23dcd1"
      },
      "execution_count": 16,
      "outputs": [
        {
          "output_type": "display_data",
          "data": {
            "text/plain": [
              "     Data             ID_Produto   Nome_Produto       Quantidade_Vendida\n",
              " Length:62          Min.   :1001   Length:62          Min.   : 1.00     \n",
              " Class :character   1st Qu.:1001   Class :character   1st Qu.: 7.25     \n",
              " Mode  :character   Median :1002   Mode  :character   Median :12.00     \n",
              "                    Mean   :1002                      Mean   :11.03     \n",
              "                    3rd Qu.:1004                      3rd Qu.:15.00     \n",
              "                    Max.   :1004                      Max.   :19.00     \n",
              " Estoque_Disponível  Categoria        \n",
              " Min.   :12.00      Length:62         \n",
              " 1st Qu.:37.25      Class :character  \n",
              " Median :55.50      Mode  :character  \n",
              " Mean   :56.95                        \n",
              " 3rd Qu.:79.75                        \n",
              " Max.   :97.00                        "
            ]
          },
          "metadata": {}
        }
      ]
    },
    {
      "cell_type": "code",
      "source": [
        "camisas_df[1, ]"
      ],
      "metadata": {
        "colab": {
          "base_uri": "https://localhost:8080/",
          "height": 129
        },
        "id": "HSidlcEvwTuV",
        "outputId": "52afff3d-20f2-4b03-b388-0f71b153dc51"
      },
      "execution_count": 17,
      "outputs": [
        {
          "output_type": "display_data",
          "data": {
            "text/html": [
              "<table class=\"dataframe\">\n",
              "<caption>A data.frame: 1 × 6</caption>\n",
              "<thead>\n",
              "\t<tr><th></th><th scope=col>Data</th><th scope=col>ID_Produto</th><th scope=col>Nome_Produto</th><th scope=col>Quantidade_Vendida</th><th scope=col>Estoque_Disponível</th><th scope=col>Categoria</th></tr>\n",
              "\t<tr><th></th><th scope=col>&lt;chr&gt;</th><th scope=col>&lt;int&gt;</th><th scope=col>&lt;chr&gt;</th><th scope=col>&lt;int&gt;</th><th scope=col>&lt;int&gt;</th><th scope=col>&lt;chr&gt;</th></tr>\n",
              "</thead>\n",
              "<tbody>\n",
              "\t<tr><th scope=row>1</th><td>2023-01-01</td><td>1001</td><td>Camisa Social Azul</td><td>7</td><td>35</td><td>Camisas</td></tr>\n",
              "</tbody>\n",
              "</table>\n"
            ],
            "text/markdown": "\nA data.frame: 1 × 6\n\n| <!--/--> | Data &lt;chr&gt; | ID_Produto &lt;int&gt; | Nome_Produto &lt;chr&gt; | Quantidade_Vendida &lt;int&gt; | Estoque_Disponível &lt;int&gt; | Categoria &lt;chr&gt; |\n|---|---|---|---|---|---|---|\n| 1 | 2023-01-01 | 1001 | Camisa Social Azul | 7 | 35 | Camisas |\n\n",
            "text/latex": "A data.frame: 1 × 6\n\\begin{tabular}{r|llllll}\n  & Data & ID\\_Produto & Nome\\_Produto & Quantidade\\_Vendida & Estoque\\_Disponível & Categoria\\\\\n  & <chr> & <int> & <chr> & <int> & <int> & <chr>\\\\\n\\hline\n\t1 & 2023-01-01 & 1001 & Camisa Social Azul & 7 & 35 & Camisas\\\\\n\\end{tabular}\n",
            "text/plain": [
              "  Data       ID_Produto Nome_Produto       Quantidade_Vendida\n",
              "1 2023-01-01 1001       Camisa Social Azul 7                 \n",
              "  Estoque_Disponível Categoria\n",
              "1 35                 Camisas  "
            ]
          },
          "metadata": {}
        }
      ]
    },
    {
      "cell_type": "code",
      "source": [
        "nova_linha <- data.frame(Data = \"2023-01-01\t\",\n",
        "                        ID_Produto = 1001 ,\n",
        "                        Nome_Produto = \"Camisa Social Azul\" ,\n",
        "                        Quantidade_Vendida = -7,\n",
        "                        Estoque_Disponível = 35 ,\n",
        "                        Categoria = \"Camisas\")\n",
        "\n",
        "nova_linha"
      ],
      "metadata": {
        "colab": {
          "base_uri": "https://localhost:8080/",
          "height": 129
        },
        "id": "iqSq_0N7wYYv",
        "outputId": "6e70a9c6-57c4-4d27-9b04-bb81829264c7"
      },
      "execution_count": 18,
      "outputs": [
        {
          "output_type": "display_data",
          "data": {
            "text/html": [
              "<table class=\"dataframe\">\n",
              "<caption>A data.frame: 1 × 6</caption>\n",
              "<thead>\n",
              "\t<tr><th scope=col>Data</th><th scope=col>ID_Produto</th><th scope=col>Nome_Produto</th><th scope=col>Quantidade_Vendida</th><th scope=col>Estoque_Disponível</th><th scope=col>Categoria</th></tr>\n",
              "\t<tr><th scope=col>&lt;chr&gt;</th><th scope=col>&lt;dbl&gt;</th><th scope=col>&lt;chr&gt;</th><th scope=col>&lt;dbl&gt;</th><th scope=col>&lt;dbl&gt;</th><th scope=col>&lt;chr&gt;</th></tr>\n",
              "</thead>\n",
              "<tbody>\n",
              "\t<tr><td>2023-01-01\t</td><td>1001</td><td>Camisa Social Azul</td><td>-7</td><td>35</td><td>Camisas</td></tr>\n",
              "</tbody>\n",
              "</table>\n"
            ],
            "text/markdown": "\nA data.frame: 1 × 6\n\n| Data &lt;chr&gt; | ID_Produto &lt;dbl&gt; | Nome_Produto &lt;chr&gt; | Quantidade_Vendida &lt;dbl&gt; | Estoque_Disponível &lt;dbl&gt; | Categoria &lt;chr&gt; |\n|---|---|---|---|---|---|\n| 2023-01-01\t | 1001 | Camisa Social Azul | -7 | 35 | Camisas |\n\n",
            "text/latex": "A data.frame: 1 × 6\n\\begin{tabular}{llllll}\n Data & ID\\_Produto & Nome\\_Produto & Quantidade\\_Vendida & Estoque\\_Disponível & Categoria\\\\\n <chr> & <dbl> & <chr> & <dbl> & <dbl> & <chr>\\\\\n\\hline\n\t 2023-01-01\t & 1001 & Camisa Social Azul & -7 & 35 & Camisas\\\\\n\\end{tabular}\n",
            "text/plain": [
              "  Data         ID_Produto Nome_Produto       Quantidade_Vendida\n",
              "1 2023-01-01\\t 1001       Camisa Social Azul -7                \n",
              "  Estoque_Disponível Categoria\n",
              "1 35                 Camisas  "
            ]
          },
          "metadata": {}
        }
      ]
    },
    {
      "cell_type": "code",
      "source": [
        "sales_data <- rbind(sales_data, nova_linha)"
      ],
      "metadata": {
        "id": "H7Nj3UpQxj3I"
      },
      "execution_count": 19,
      "outputs": []
    },
    {
      "cell_type": "code",
      "source": [
        "head(sales_data)"
      ],
      "metadata": {
        "colab": {
          "base_uri": "https://localhost:8080/",
          "height": 286
        },
        "id": "EViTVEZ8xsbV",
        "outputId": "034d6151-d741-4f15-b5f2-e41f6c850837"
      },
      "execution_count": 20,
      "outputs": [
        {
          "output_type": "display_data",
          "data": {
            "text/html": [
              "<table class=\"dataframe\">\n",
              "<caption>A data.frame: 6 × 6</caption>\n",
              "<thead>\n",
              "\t<tr><th></th><th scope=col>Data</th><th scope=col>ID_Produto</th><th scope=col>Nome_Produto</th><th scope=col>Quantidade_Vendida</th><th scope=col>Estoque_Disponível</th><th scope=col>Categoria</th></tr>\n",
              "\t<tr><th></th><th scope=col>&lt;chr&gt;</th><th scope=col>&lt;dbl&gt;</th><th scope=col>&lt;chr&gt;</th><th scope=col>&lt;dbl&gt;</th><th scope=col>&lt;dbl&gt;</th><th scope=col>&lt;chr&gt;</th></tr>\n",
              "</thead>\n",
              "<tbody>\n",
              "\t<tr><th scope=row>1</th><td>2023-01-01</td><td>1001</td><td>Camisa Social Azul  </td><td> 7</td><td>35</td><td>Camisas </td></tr>\n",
              "\t<tr><th scope=row>2</th><td>2023-01-01</td><td>1002</td><td>Calça Jeans         </td><td> 7</td><td>58</td><td>Calças  </td></tr>\n",
              "\t<tr><th scope=row>3</th><td>2023-01-01</td><td>1003</td><td>Jaqueta de Couro    </td><td> 7</td><td>78</td><td>Jaquetas</td></tr>\n",
              "\t<tr><th scope=row>4</th><td>2023-01-01</td><td>1004</td><td>Camisa Social Branca</td><td>15</td><td>24</td><td>Camisas </td></tr>\n",
              "\t<tr><th scope=row>5</th><td>2023-01-01</td><td>1005</td><td>Saia Longa          </td><td> 7</td><td>18</td><td>Saias   </td></tr>\n",
              "\t<tr><th scope=row>6</th><td>2023-01-01</td><td>1006</td><td>Blusa de Algodão    </td><td> 8</td><td>48</td><td>Blusas  </td></tr>\n",
              "</tbody>\n",
              "</table>\n"
            ],
            "text/markdown": "\nA data.frame: 6 × 6\n\n| <!--/--> | Data &lt;chr&gt; | ID_Produto &lt;dbl&gt; | Nome_Produto &lt;chr&gt; | Quantidade_Vendida &lt;dbl&gt; | Estoque_Disponível &lt;dbl&gt; | Categoria &lt;chr&gt; |\n|---|---|---|---|---|---|---|\n| 1 | 2023-01-01 | 1001 | Camisa Social Azul   |  7 | 35 | Camisas  |\n| 2 | 2023-01-01 | 1002 | Calça Jeans          |  7 | 58 | Calças   |\n| 3 | 2023-01-01 | 1003 | Jaqueta de Couro     |  7 | 78 | Jaquetas |\n| 4 | 2023-01-01 | 1004 | Camisa Social Branca | 15 | 24 | Camisas  |\n| 5 | 2023-01-01 | 1005 | Saia Longa           |  7 | 18 | Saias    |\n| 6 | 2023-01-01 | 1006 | Blusa de Algodão     |  8 | 48 | Blusas   |\n\n",
            "text/latex": "A data.frame: 6 × 6\n\\begin{tabular}{r|llllll}\n  & Data & ID\\_Produto & Nome\\_Produto & Quantidade\\_Vendida & Estoque\\_Disponível & Categoria\\\\\n  & <chr> & <dbl> & <chr> & <dbl> & <dbl> & <chr>\\\\\n\\hline\n\t1 & 2023-01-01 & 1001 & Camisa Social Azul   &  7 & 35 & Camisas \\\\\n\t2 & 2023-01-01 & 1002 & Calça Jeans          &  7 & 58 & Calças  \\\\\n\t3 & 2023-01-01 & 1003 & Jaqueta de Couro     &  7 & 78 & Jaquetas\\\\\n\t4 & 2023-01-01 & 1004 & Camisa Social Branca & 15 & 24 & Camisas \\\\\n\t5 & 2023-01-01 & 1005 & Saia Longa           &  7 & 18 & Saias   \\\\\n\t6 & 2023-01-01 & 1006 & Blusa de Algodão     &  8 & 48 & Blusas  \\\\\n\\end{tabular}\n",
            "text/plain": [
              "  Data       ID_Produto Nome_Produto         Quantidade_Vendida\n",
              "1 2023-01-01 1001       Camisa Social Azul    7                \n",
              "2 2023-01-01 1002       Calça Jeans           7                \n",
              "3 2023-01-01 1003       Jaqueta de Couro      7                \n",
              "4 2023-01-01 1004       Camisa Social Branca 15                \n",
              "5 2023-01-01 1005       Saia Longa            7                \n",
              "6 2023-01-01 1006       Blusa de Algodão      8                \n",
              "  Estoque_Disponível Categoria\n",
              "1 35                 Camisas  \n",
              "2 58                 Calças   \n",
              "3 78                 Jaquetas \n",
              "4 24                 Camisas  \n",
              "5 18                 Saias    \n",
              "6 48                 Blusas   "
            ]
          },
          "metadata": {}
        }
      ]
    },
    {
      "cell_type": "code",
      "source": [
        "#Com o Sumary é possível corrigir os dados, e verificar a veracidade dos mesmos\n",
        "summary(sales_data)"
      ],
      "metadata": {
        "colab": {
          "base_uri": "https://localhost:8080/",
          "height": 275
        },
        "id": "ylxzBaSmxxYj",
        "outputId": "fd5fbc0a-be90-446a-a624-2dc56ed9c206"
      },
      "execution_count": 21,
      "outputs": [
        {
          "output_type": "display_data",
          "data": {
            "text/plain": [
              "     Data             ID_Produto   Nome_Produto       Quantidade_Vendida\n",
              " Length:311         Min.   :1001   Length:311         Min.   :-7.00     \n",
              " Class :character   1st Qu.:1003   Class :character   1st Qu.: 6.00     \n",
              " Mode  :character   Median :1005   Mode  :character   Median :11.00     \n",
              "                    Mean   :1005                      Mean   :10.58     \n",
              "                    3rd Qu.:1008                      3rd Qu.:15.50     \n",
              "                    Max.   :1010                      Max.   :19.00     \n",
              " Estoque_Disponível  Categoria        \n",
              " Min.   :10.00      Length:311        \n",
              " 1st Qu.:33.00      Class :character  \n",
              " Median :54.00      Mode  :character  \n",
              " Mean   :54.33                        \n",
              " 3rd Qu.:76.00                        \n",
              " Max.   :99.00                        "
            ]
          },
          "metadata": {}
        }
      ]
    },
    {
      "cell_type": "code",
      "source": [
        "#Removendo o dado inválido criado para teste dentro do dataframe\n",
        "sales_data <- subset(sales_data, Quantidade_Vendida != -7)"
      ],
      "metadata": {
        "id": "AWsCL2rhyVsm"
      },
      "execution_count": 22,
      "outputs": []
    },
    {
      "cell_type": "code",
      "source": [
        "summary(sales_data)"
      ],
      "metadata": {
        "colab": {
          "base_uri": "https://localhost:8080/",
          "height": 275
        },
        "id": "uJBasKvwyy2c",
        "outputId": "fed6eda1-3bb1-4e1d-cf21-84cd04e346c9"
      },
      "execution_count": 23,
      "outputs": [
        {
          "output_type": "display_data",
          "data": {
            "text/plain": [
              "     Data             ID_Produto   Nome_Produto       Quantidade_Vendida\n",
              " Length:310         Min.   :1001   Length:310         Min.   : 1.00     \n",
              " Class :character   1st Qu.:1003   Class :character   1st Qu.: 6.00     \n",
              " Mode  :character   Median :1006   Mode  :character   Median :11.00     \n",
              "                    Mean   :1006                      Mean   :10.64     \n",
              "                    3rd Qu.:1008                      3rd Qu.:15.75     \n",
              "                    Max.   :1010                      Max.   :19.00     \n",
              " Estoque_Disponível  Categoria        \n",
              " Min.   :10.00      Length:310        \n",
              " 1st Qu.:33.00      Class :character  \n",
              " Median :54.00      Mode  :character  \n",
              " Mean   :54.39                        \n",
              " 3rd Qu.:76.00                        \n",
              " Max.   :99.00                        "
            ]
          },
          "metadata": {}
        }
      ]
    },
    {
      "cell_type": "markdown",
      "source": [
        "### **Total de vendas por produto com a função aggregate**"
      ],
      "metadata": {
        "id": "9X2Zb-R-1Ph2"
      }
    },
    {
      "cell_type": "code",
      "source": [
        "total_vendido  <- aggregate(Quantidade_Vendida ~ Nome_Produto, data=sales_data, sum)"
      ],
      "metadata": {
        "id": "XZBgBc4yzoxP"
      },
      "execution_count": 32,
      "outputs": []
    },
    {
      "cell_type": "code",
      "source": [
        "media_estoque <- aggregate(Estoque_Disponível ~ Nome_Produto, data=sales_data, mean)"
      ],
      "metadata": {
        "id": "PtCIobDE0LLj"
      },
      "execution_count": 33,
      "outputs": []
    },
    {
      "cell_type": "code",
      "source": [
        "aggregate_data <- merge(total_vendido, media_estoque, by = \"Nome_Produto\")"
      ],
      "metadata": {
        "id": "jqY4i4nX0WPJ"
      },
      "execution_count": 34,
      "outputs": []
    },
    {
      "cell_type": "code",
      "source": [
        "head(aggregate_data)"
      ],
      "metadata": {
        "colab": {
          "base_uri": "https://localhost:8080/",
          "height": 286
        },
        "id": "KZKKiKbM0hQn",
        "outputId": "2f2a7fd2-fcf2-4690-f64c-21f8ab0250c9"
      },
      "execution_count": 35,
      "outputs": [
        {
          "output_type": "display_data",
          "data": {
            "text/html": [
              "<table class=\"dataframe\">\n",
              "<caption>A data.frame: 6 × 3</caption>\n",
              "<thead>\n",
              "\t<tr><th></th><th scope=col>Nome_Produto</th><th scope=col>Quantidade_Vendida</th><th scope=col>Estoque_Disponível</th></tr>\n",
              "\t<tr><th></th><th scope=col>&lt;chr&gt;</th><th scope=col>&lt;dbl&gt;</th><th scope=col>&lt;dbl&gt;</th></tr>\n",
              "</thead>\n",
              "<tbody>\n",
              "\t<tr><th scope=row>1</th><td>Blusa de Algodão    </td><td>284</td><td>51.87097</td></tr>\n",
              "\t<tr><th scope=row>2</th><td>Calça de Moletom    </td><td>378</td><td>57.32258</td></tr>\n",
              "\t<tr><th scope=row>3</th><td>Calça Jeans         </td><td>321</td><td>49.96774</td></tr>\n",
              "\t<tr><th scope=row>4</th><td>Camisa Social Azul  </td><td>336</td><td>53.16129</td></tr>\n",
              "\t<tr><th scope=row>5</th><td>Camisa Social Branca</td><td>348</td><td>60.74194</td></tr>\n",
              "\t<tr><th scope=row>6</th><td>Camiseta Básica     </td><td>355</td><td>54.06452</td></tr>\n",
              "</tbody>\n",
              "</table>\n"
            ],
            "text/markdown": "\nA data.frame: 6 × 3\n\n| <!--/--> | Nome_Produto &lt;chr&gt; | Quantidade_Vendida &lt;dbl&gt; | Estoque_Disponível &lt;dbl&gt; |\n|---|---|---|---|\n| 1 | Blusa de Algodão     | 284 | 51.87097 |\n| 2 | Calça de Moletom     | 378 | 57.32258 |\n| 3 | Calça Jeans          | 321 | 49.96774 |\n| 4 | Camisa Social Azul   | 336 | 53.16129 |\n| 5 | Camisa Social Branca | 348 | 60.74194 |\n| 6 | Camiseta Básica      | 355 | 54.06452 |\n\n",
            "text/latex": "A data.frame: 6 × 3\n\\begin{tabular}{r|lll}\n  & Nome\\_Produto & Quantidade\\_Vendida & Estoque\\_Disponível\\\\\n  & <chr> & <dbl> & <dbl>\\\\\n\\hline\n\t1 & Blusa de Algodão     & 284 & 51.87097\\\\\n\t2 & Calça de Moletom     & 378 & 57.32258\\\\\n\t3 & Calça Jeans          & 321 & 49.96774\\\\\n\t4 & Camisa Social Azul   & 336 & 53.16129\\\\\n\t5 & Camisa Social Branca & 348 & 60.74194\\\\\n\t6 & Camiseta Básica      & 355 & 54.06452\\\\\n\\end{tabular}\n",
            "text/plain": [
              "  Nome_Produto         Quantidade_Vendida Estoque_Disponível\n",
              "1 Blusa de Algodão     284                51.87097          \n",
              "2 Calça de Moletom     378                57.32258          \n",
              "3 Calça Jeans          321                49.96774          \n",
              "4 Camisa Social Azul   336                53.16129          \n",
              "5 Camisa Social Branca 348                60.74194          \n",
              "6 Camiseta Básica      355                54.06452          "
            ]
          },
          "metadata": {}
        }
      ]
    },
    {
      "cell_type": "markdown",
      "source": [
        "### **Total de vendas por produto com a função tapply**"
      ],
      "metadata": {
        "id": "Qyz7W3LI1d0v"
      }
    },
    {
      "cell_type": "code",
      "source": [
        "total_vendas_por_produto <-  tapply(sales_data$Quantidade_Vendida, sales_data$Nome_Produto, sum)"
      ],
      "metadata": {
        "id": "t46Udbt207ZX"
      },
      "execution_count": 36,
      "outputs": []
    },
    {
      "cell_type": "code",
      "source": [
        "print(total_vendas_por_produto)"
      ],
      "metadata": {
        "colab": {
          "base_uri": "https://localhost:8080/"
        },
        "id": "3Yr-qS7K1I7l",
        "outputId": "57c15e4c-fa97-45b0-9054-32d34a8b8005"
      },
      "execution_count": 37,
      "outputs": [
        {
          "output_type": "stream",
          "name": "stdout",
          "text": [
            "    Blusa de Algodão     Calça de Moletom          Calça Jeans \n",
            "                 284                  378                  321 \n",
            "  Camisa Social Azul Camisa Social Branca      Camiseta Básica \n",
            "                 336                  348                  355 \n",
            "    Jaqueta de Couro           Saia Longa       Terno Completo \n",
            "                 308                  335                  275 \n",
            "      Vestido Floral \n",
            "                 357 \n"
          ]
        }
      ]
    },
    {
      "cell_type": "code",
      "source": [
        "#Exibindo totas as categorias disponíveis\n",
        "categorias <- unique(sales_data$Categoria)\n",
        "categorias"
      ],
      "metadata": {
        "colab": {
          "base_uri": "https://localhost:8080/",
          "height": 34
        },
        "id": "tnSMpJ7Tw5P1",
        "outputId": "56c6f8a5-84fe-4a5b-871a-6804e2c6f45c"
      },
      "execution_count": 24,
      "outputs": [
        {
          "output_type": "display_data",
          "data": {
            "text/html": [
              "<style>\n",
              ".list-inline {list-style: none; margin:0; padding: 0}\n",
              ".list-inline>li {display: inline-block}\n",
              ".list-inline>li:not(:last-child)::after {content: \"\\00b7\"; padding: 0 .5ex}\n",
              "</style>\n",
              "<ol class=list-inline><li>'Camisas'</li><li>'Calças'</li><li>'Jaquetas'</li><li>'Saias'</li><li>'Blusas'</li><li>'Vestidos'</li><li>'Ternos'</li><li>'Camisetas'</li></ol>\n"
            ],
            "text/markdown": "1. 'Camisas'\n2. 'Calças'\n3. 'Jaquetas'\n4. 'Saias'\n5. 'Blusas'\n6. 'Vestidos'\n7. 'Ternos'\n8. 'Camisetas'\n\n\n",
            "text/latex": "\\begin{enumerate*}\n\\item 'Camisas'\n\\item 'Calças'\n\\item 'Jaquetas'\n\\item 'Saias'\n\\item 'Blusas'\n\\item 'Vestidos'\n\\item 'Ternos'\n\\item 'Camisetas'\n\\end{enumerate*}\n",
            "text/plain": [
              "[1] \"Camisas\"   \"Calças\"    \"Jaquetas\"  \"Saias\"     \"Blusas\"    \"Vestidos\" \n",
              "[7] \"Ternos\"    \"Camisetas\""
            ]
          },
          "metadata": {}
        }
      ]
    },
    {
      "cell_type": "code",
      "source": [
        "total_vendido_categoria <- numeric(length(categorias))\n",
        "total_vendido_categoria"
      ],
      "metadata": {
        "colab": {
          "base_uri": "https://localhost:8080/",
          "height": 34
        },
        "id": "ZTq9bacqxAK3",
        "outputId": "2d779dc6-41bd-49da-f7e5-ee058eb28cff"
      },
      "execution_count": 25,
      "outputs": [
        {
          "output_type": "display_data",
          "data": {
            "text/html": [
              "<style>\n",
              ".list-inline {list-style: none; margin:0; padding: 0}\n",
              ".list-inline>li {display: inline-block}\n",
              ".list-inline>li:not(:last-child)::after {content: \"\\00b7\"; padding: 0 .5ex}\n",
              "</style>\n",
              "<ol class=list-inline><li>0</li><li>0</li><li>0</li><li>0</li><li>0</li><li>0</li><li>0</li><li>0</li></ol>\n"
            ],
            "text/markdown": "1. 0\n2. 0\n3. 0\n4. 0\n5. 0\n6. 0\n7. 0\n8. 0\n\n\n",
            "text/latex": "\\begin{enumerate*}\n\\item 0\n\\item 0\n\\item 0\n\\item 0\n\\item 0\n\\item 0\n\\item 0\n\\item 0\n\\end{enumerate*}\n",
            "text/plain": [
              "[1] 0 0 0 0 0 0 0 0"
            ]
          },
          "metadata": {}
        }
      ]
    },
    {
      "cell_type": "code",
      "source": [
        "for (i in seq_along(categorias)){\n",
        "  total_vendido_categoria[i] = sum(sales_data$Quantidade_Vendida[sales_data$Categoria == categorias[i]])\n",
        "}"
      ],
      "metadata": {
        "id": "AP83_PoCxAC9"
      },
      "execution_count": 28,
      "outputs": []
    },
    {
      "cell_type": "code",
      "source": [
        "total_vendido_categoria"
      ],
      "metadata": {
        "colab": {
          "base_uri": "https://localhost:8080/",
          "height": 34
        },
        "id": "GGlCTzoUyK4y",
        "outputId": "c23ccd98-009d-4c05-ced4-1cd8984cf1ec"
      },
      "execution_count": 29,
      "outputs": [
        {
          "output_type": "display_data",
          "data": {
            "text/html": [
              "<style>\n",
              ".list-inline {list-style: none; margin:0; padding: 0}\n",
              ".list-inline>li {display: inline-block}\n",
              ".list-inline>li:not(:last-child)::after {content: \"\\00b7\"; padding: 0 .5ex}\n",
              "</style>\n",
              "<ol class=list-inline><li>684</li><li>699</li><li>308</li><li>335</li><li>284</li><li>357</li><li>275</li><li>355</li></ol>\n"
            ],
            "text/markdown": "1. 684\n2. 699\n3. 308\n4. 335\n5. 284\n6. 357\n7. 275\n8. 355\n\n\n",
            "text/latex": "\\begin{enumerate*}\n\\item 684\n\\item 699\n\\item 308\n\\item 335\n\\item 284\n\\item 357\n\\item 275\n\\item 355\n\\end{enumerate*}\n",
            "text/plain": [
              "[1] 684 699 308 335 284 357 275 355"
            ]
          },
          "metadata": {}
        }
      ]
    },
    {
      "cell_type": "code",
      "source": [
        "barplot(total_vendido_categoria,\n",
        "        names.arg = categorias,\n",
        "        main = \"Total Vendido por Categoria\",\n",
        "        xlab = \"Categorias\",\n",
        "        ylab = \"Total vendido\",\n",
        "        las = 2)"
      ],
      "metadata": {
        "colab": {
          "base_uri": "https://localhost:8080/",
          "height": 437
        },
        "id": "MqKFrJgPyXuk",
        "outputId": "f26a925a-c9f7-4f6b-93bf-15aab7e23cb7"
      },
      "execution_count": 31,
      "outputs": [
        {
          "output_type": "display_data",
          "data": {
            "text/plain": [
              "Plot with title “Total Vendido por Categoria”"
            ],
            "image/png": "[encoded data removed]"
          },
          "metadata": {
            "image/png": {
              "width": 420,
              "height": 420
            }
          }
        }
      ]
    }
  ]
}